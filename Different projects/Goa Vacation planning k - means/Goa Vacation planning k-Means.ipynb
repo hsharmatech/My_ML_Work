{
 "cells": [
  {
   "cell_type": "markdown",
   "metadata": {},
   "source": [
    "### Use K-Means to plan a vacation\n",
    "\n",
    "I was going for a vacation to Goa for 7 days and wanted to plan my travel accordingly. I wanted to plan my travel in a way so I can cover all the places to visit and finish it in time. So I though of building a list of best tourist attractions of goa and build a solution which can suggest from where to start and which places (nearby) to cover in a day. For that I thought of using the clustering algorithm (k-Means).\n",
    "\n"
   ]
  },
  {
   "cell_type": "markdown",
   "metadata": {},
   "source": [
    "#### Data\n",
    "\n",
    "First challenge was to gather data. For that I used the tourist map published by Goa tourism in form of Google map.\n",
    "https://www.google.com/maps/d/u/0/viewer?ll=15.655477560814901%2C74.04035815712655&spn=0.005871%2C0.007274&hl=en&t=m&msa=0&z=9&source=embed&ie=UTF8&mid=1LGbERKxYJJTdBzWSxG_MWS2IBLw\n",
    "\n",
    "In this map there were lot of information about each of the 72 best places Goa tourism suggest it self. I wanted my algorithm to work on the latitude and longitude to identify the closest places as possible to each other. To extract this information from this file and convert it to a numpy array I used following approach.\n",
    "\n",
    "1. downloaded the map as kml file.\n",
    "2. open that kml file in notepad and save it as xml file (Goa.xml).\n",
    "\n",
    "Then I used a the xml parser to parse this file\n"
   ]
  },
  {
   "cell_type": "code",
   "execution_count": 1,
   "metadata": {},
   "outputs": [],
   "source": [
    "import pandas as pd\n",
    "import numpy as np\n",
    "import matplotlib\n",
    "import matplotlib.pyplot as plt\n",
    "\n",
    "from bs4 import BeautifulSoup as Soup"
   ]
  },
  {
   "cell_type": "code",
   "execution_count": 93,
   "metadata": {},
   "outputs": [],
   "source": [
    "#open the xml file with utf8 encoding as you will find many utf encoded character in the xml file\n",
    "\n",
    "with open('Goa.xml',encoding=\"utf8\") as Goa_data:\n",
    "    parsed_data = Soup(Goa_data, 'lxml-xml') # Parse as XML\n",
    "\n",
    "## now parse the file and gather each coordinates for each entry in the file and store it in the list\n",
    "lat_long = parsed_data.find_all('coordinates')\n",
    "coordinates_list = []\n",
    "\n",
    "for x in lat_long:\n",
    "    coordinates_list.append(str(x)) \n",
    "    \n",
    "## do similarly with the names of places in the xml file\n",
    "names = parsed_data.find_all('name') \n",
    "names_list = []\n",
    "for x in names:\n",
    "    names_list.append(str(x)) # store the coordinates in a list\n",
    "    \n"
   ]
  },
  {
   "cell_type": "code",
   "execution_count": 94,
   "metadata": {},
   "outputs": [],
   "source": [
    "# now we will create a data frames from these lists\n",
    "\n",
    "df_colomns = ['Long', 'Lat', 'Place']\n",
    "places_df = pd.DataFrame(columns=df_colomns) \n",
    "\n",
    "# Now we will split the coordinamtes list into latitude and longitudes separated by ',' and also add name to it\n",
    "# First two entry of names are some non relevant values, so start range from 3rd entry\n",
    "for i, j in zip(range(len(coordinates_list)), range(2, len(names_list))):\n",
    "    item = coordinates_list[i]\n",
    "    splt_str = item.split(',')\n",
    "    long = float(splt_str[0][26:]) # used to remove the leading text \n",
    "    let = float(splt_str[1])\n",
    "    place = names_list[j][6:-7] # used to remove the leading and trailing text\n",
    "\n",
    "    places_df.loc[i] = [long, let, place]"
   ]
  },
  {
   "cell_type": "code",
   "execution_count": 95,
   "metadata": {},
   "outputs": [
    {
     "data": {
      "text/html": [
       "<div>\n",
       "<style scoped>\n",
       "    .dataframe tbody tr th:only-of-type {\n",
       "        vertical-align: middle;\n",
       "    }\n",
       "\n",
       "    .dataframe tbody tr th {\n",
       "        vertical-align: top;\n",
       "    }\n",
       "\n",
       "    .dataframe thead th {\n",
       "        text-align: right;\n",
       "    }\n",
       "</style>\n",
       "<table border=\"1\" class=\"dataframe\">\n",
       "  <thead>\n",
       "    <tr style=\"text-align: right;\">\n",
       "      <th></th>\n",
       "      <th>Long</th>\n",
       "      <th>Lat</th>\n",
       "      <th>Place</th>\n",
       "    </tr>\n",
       "  </thead>\n",
       "  <tbody>\n",
       "    <tr>\n",
       "      <th>0</th>\n",
       "      <td>73.703220</td>\n",
       "      <td>15.684671</td>\n",
       "      <td>Arambol Beach</td>\n",
       "    </tr>\n",
       "    <tr>\n",
       "      <th>1</th>\n",
       "      <td>73.713005</td>\n",
       "      <td>15.657544</td>\n",
       "      <td>Mandrem Beach</td>\n",
       "    </tr>\n",
       "    <tr>\n",
       "      <th>2</th>\n",
       "      <td>73.716588</td>\n",
       "      <td>15.646697</td>\n",
       "      <td>Ashvem Beach</td>\n",
       "    </tr>\n",
       "    <tr>\n",
       "      <th>3</th>\n",
       "      <td>73.736329</td>\n",
       "      <td>15.615680</td>\n",
       "      <td>Morgim Beach</td>\n",
       "    </tr>\n",
       "    <tr>\n",
       "      <th>4</th>\n",
       "      <td>73.733518</td>\n",
       "      <td>15.602660</td>\n",
       "      <td>Vagator Beach</td>\n",
       "    </tr>\n",
       "  </tbody>\n",
       "</table>\n",
       "</div>"
      ],
      "text/plain": [
       "        Long        Lat          Place\n",
       "0  73.703220  15.684671  Arambol Beach\n",
       "1  73.713005  15.657544  Mandrem Beach\n",
       "2  73.716588  15.646697   Ashvem Beach\n",
       "3  73.736329  15.615680   Morgim Beach\n",
       "4  73.733518  15.602660  Vagator Beach"
      ]
     },
     "execution_count": 95,
     "metadata": {},
     "output_type": "execute_result"
    }
   ],
   "source": [
    "places_df.head(5)"
   ]
  },
  {
   "cell_type": "markdown",
   "metadata": {},
   "source": [
    "#### Plot the places\n",
    "\n",
    "Now let us plot the places in the form of graph"
   ]
  },
  {
   "cell_type": "code",
   "execution_count": 96,
   "metadata": {},
   "outputs": [
    {
     "data": {
      "image/png": "[encoded data removed]",
      "text/plain": [
       "<Figure size 432x288 with 1 Axes>"
      ]
     },
     "metadata": {},
     "output_type": "display_data"
    }
   ],
   "source": [
    "plt.scatter(places_df['Long'], places_df['Lat']            )\n",
    "plt.xlabel('Latitude', fontsize=18)\n",
    "plt.ylabel('Longitude', fontsize=18)\n",
    "plt.grid()\n",
    "plt.show()"
   ]
  },
  {
   "cell_type": "markdown",
   "metadata": {},
   "source": [
    "it shows that most of the places are near and there are 2 - 3 far places as well"
   ]
  },
  {
   "cell_type": "markdown",
   "metadata": {},
   "source": [
    "## Model - k-Means "
   ]
  },
  {
   "cell_type": "code",
   "execution_count": 120,
   "metadata": {},
   "outputs": [],
   "source": [
    "from sklearn.cluster import KMeans \n",
    "\n",
    "# we will tune our model to create 7 cluster, one for each day of travel\n",
    "\n",
    "goa_cluster = KMeans(n_clusters=7)\n",
    "\n",
    "# We will only use latitude and longitudes to fit the data. \n",
    "data  = places_df[['Long','Lat']].values\n",
    "\n",
    "predict = goa_cluster.fit_predict(data)"
   ]
  },
  {
   "cell_type": "code",
   "execution_count": 121,
   "metadata": {},
   "outputs": [
    {
     "name": "stdout",
     "output_type": "stream",
     "text": [
      "[0 0 0 0 0 0 0 0 0 3 3 3 3 3 3 3 1 1 1 1 1 1 0 3 3 3 3 3 3 3 3 3 3 1 4 6 4\n",
      " 0 3 0 0 6 6 6 3 1 1 4 6 6 3 1 6 5 5 2 4 4 0 3 3 0 1 4 3 3 3 3 3 1 3 6]\n"
     ]
    }
   ],
   "source": [
    "print (predict)"
   ]
  },
  {
   "cell_type": "code",
   "execution_count": 122,
   "metadata": {},
   "outputs": [],
   "source": [
    "## concatenate these predictions as a new column in original data representing each day\n",
    "day_df = pd.concat([places_df.reset_index(), \n",
    "                       pd.DataFrame({'day':predict})], \n",
    "                      axis=1)\n",
    "# after concatination drom the first duplicate index\n",
    "day_df.drop('index', axis=1, inplace=True)"
   ]
  },
  {
   "cell_type": "code",
   "execution_count": 123,
   "metadata": {},
   "outputs": [
    {
     "data": {
      "text/html": [
       "<div>\n",
       "<style scoped>\n",
       "    .dataframe tbody tr th:only-of-type {\n",
       "        vertical-align: middle;\n",
       "    }\n",
       "\n",
       "    .dataframe tbody tr th {\n",
       "        vertical-align: top;\n",
       "    }\n",
       "\n",
       "    .dataframe thead th {\n",
       "        text-align: right;\n",
       "    }\n",
       "</style>\n",
       "<table border=\"1\" class=\"dataframe\">\n",
       "  <thead>\n",
       "    <tr style=\"text-align: right;\">\n",
       "      <th></th>\n",
       "      <th>Long</th>\n",
       "      <th>Lat</th>\n",
       "      <th>Place</th>\n",
       "      <th>day</th>\n",
       "    </tr>\n",
       "  </thead>\n",
       "  <tbody>\n",
       "    <tr>\n",
       "      <th>0</th>\n",
       "      <td>73.703220</td>\n",
       "      <td>15.684671</td>\n",
       "      <td>Arambol Beach</td>\n",
       "      <td>0</td>\n",
       "    </tr>\n",
       "    <tr>\n",
       "      <th>1</th>\n",
       "      <td>73.713005</td>\n",
       "      <td>15.657544</td>\n",
       "      <td>Mandrem Beach</td>\n",
       "      <td>0</td>\n",
       "    </tr>\n",
       "    <tr>\n",
       "      <th>2</th>\n",
       "      <td>73.716588</td>\n",
       "      <td>15.646697</td>\n",
       "      <td>Ashvem Beach</td>\n",
       "      <td>0</td>\n",
       "    </tr>\n",
       "    <tr>\n",
       "      <th>3</th>\n",
       "      <td>73.736329</td>\n",
       "      <td>15.615680</td>\n",
       "      <td>Morgim Beach</td>\n",
       "      <td>0</td>\n",
       "    </tr>\n",
       "    <tr>\n",
       "      <th>4</th>\n",
       "      <td>73.733518</td>\n",
       "      <td>15.602660</td>\n",
       "      <td>Vagator Beach</td>\n",
       "      <td>0</td>\n",
       "    </tr>\n",
       "  </tbody>\n",
       "</table>\n",
       "</div>"
      ],
      "text/plain": [
       "        Long        Lat          Place  day\n",
       "0  73.703220  15.684671  Arambol Beach    0\n",
       "1  73.713005  15.657544  Mandrem Beach    0\n",
       "2  73.716588  15.646697   Ashvem Beach    0\n",
       "3  73.736329  15.615680   Morgim Beach    0\n",
       "4  73.733518  15.602660  Vagator Beach    0"
      ]
     },
     "execution_count": 123,
     "metadata": {},
     "output_type": "execute_result"
    }
   ],
   "source": [
    "day_df.head()"
   ]
  },
  {
   "cell_type": "code",
   "execution_count": 124,
   "metadata": {},
   "outputs": [
    {
     "data": {
      "image/png": "[encoded data removed]",
      "text/plain": [
       "<Figure size 1440x576 with 2 Axes>"
      ]
     },
     "metadata": {},
     "output_type": "display_data"
    }
   ],
   "source": [
    "fig = plt.figure(figsize=(20,8))\n",
    "cmap=plt.cm.Dark2\n",
    "norm = matplotlib.colors.BoundaryNorm(np.arange(0,8,1), cmap.N)\n",
    "plt.scatter(day_df['Long'], day_df['Lat'], c=day_df['day'] , cmap=cmap, marker = 10, norm=norm, s=50, edgecolor='none')\n",
    "\n",
    "plt.colorbar(ticks=np.linspace(0,6,7))\n",
    "plt.xlabel('Latitude', fontsize=10)\n",
    "plt.ylabel('Longitude', fontsize=10)\n",
    "plt.title('Places cluster', fontsize=14)\n",
    "plt.grid()\n",
    "plt.show()"
   ]
  },
  {
   "cell_type": "markdown",
   "metadata": {},
   "source": [
    "so we can see that here 2 days reserved by algorithm for two point in the bottom and one in the far. If we feel these points are too far and are outliers we can remove then and then rest of the close by places can be divide in 7 days. let them draw it on google map to see how far it is actually"
   ]
  },
  {
   "cell_type": "markdown",
   "metadata": {},
   "source": [
    "### Let us plot on google map\n",
    "\n",
    "We will use gmplot library for the same. it will draw a graph on the google map which will be saved in the form of TravelMap.html in the same path where this notebook is saved.\n"
   ]
  },
  {
   "cell_type": "code",
   "execution_count": 125,
   "metadata": {},
   "outputs": [],
   "source": [
    "# import gmplot package \n",
    "import gmplot \n",
    "  \n",
    "# GoogleMapPlotter return Map object \n",
    "# Pass the center latitude and \n",
    "# center longitude \n",
    "gmap1 = gmplot.GoogleMapPlotter( 15.374774, 73.838768,10)\n",
    "\n",
    "colormap = ['red','blue','green','black','cyan','magenta','brown']\n",
    "for i in range(0, len(day_df)):\n",
    "    lat = [0]\n",
    "    long = [0]\n",
    "    colorv =[0]\n",
    "    lat [0]= day_df.Lat[i]\n",
    "    long [0]= day_df.Long[i]\n",
    "    colorv = colormap[day_df.day[i]]\n",
    "   \n",
    "    gmap1.scatter( lat, long, color = colorv, \n",
    "                              size = 1500 , marker= False ) \n",
    "\n",
    "gmap1.draw(\"TravelMap.html\")"
   ]
  },
  {
   "cell_type": "markdown",
   "metadata": {},
   "source": [
    "## Refine your data\n",
    "\n",
    "I realized that three points are actually out of Goa border and need to spend 2 days and lot of travel to cover them. So I decided to leave them and rearrange my travel so I can have two more days to cover the nearby places. So now I have 7 days to cover rest of the near places and will replan my trip."
   ]
  },
  {
   "cell_type": "code",
   "execution_count": 126,
   "metadata": {},
   "outputs": [
    {
     "name": "stdout",
     "output_type": "stream",
     "text": [
      "3    28\n",
      "0    15\n",
      "1    12\n",
      "6     8\n",
      "4     6\n",
      "5     2\n",
      "2     1\n",
      "Name: day, dtype: int64\n"
     ]
    }
   ],
   "source": [
    "# check what is the status of different values in data \n",
    "s = day_df['day'].value_counts()\n",
    "print(s)"
   ]
  },
  {
   "cell_type": "markdown",
   "metadata": {},
   "source": [
    "so we can say that for two days i.e. 1 and 2 only 3 places to visit which are the outliers for us. So we will remove them one by one."
   ]
  },
  {
   "cell_type": "code",
   "execution_count": 127,
   "metadata": {},
   "outputs": [
    {
     "data": {
      "text/plain": [
       "3    28\n",
       "0    15\n",
       "1    12\n",
       "6     8\n",
       "4     6\n",
       "Name: day, dtype: int64"
      ]
     },
     "execution_count": 127,
     "metadata": {},
     "output_type": "execute_result"
    }
   ],
   "source": [
    "# here I will remove the two least frequest day values (1, 2) from my dataset so that I can remove hte outliers\n",
    "\n",
    "# we will run this loop as need to run the loop twice to remove two least frequent values of day column\n",
    "for i in range (2) :\n",
    "    s = day_df['day'].value_counts() \n",
    "    to_remove = s[s == s.min()].index.values # for minimum freqent value capture the corresponding day\n",
    "    day_df = day_df[day_df.day != to_remove[0]] ## remove that day entry from the day column\n",
    "\n",
    "# reassign the original df from temp df\n",
    "day_df_new = day_df\n",
    "s = day_df_new['day'].value_counts()\n",
    "s\n"
   ]
  },
  {
   "cell_type": "code",
   "execution_count": 128,
   "metadata": {},
   "outputs": [],
   "source": [
    "# drop the day column\n",
    "day_df_new.drop(['day'],axis = 1, inplace = True)\n"
   ]
  },
  {
   "cell_type": "code",
   "execution_count": 130,
   "metadata": {},
   "outputs": [
    {
     "data": {
      "text/html": [
       "<div>\n",
       "<style scoped>\n",
       "    .dataframe tbody tr th:only-of-type {\n",
       "        vertical-align: middle;\n",
       "    }\n",
       "\n",
       "    .dataframe tbody tr th {\n",
       "        vertical-align: top;\n",
       "    }\n",
       "\n",
       "    .dataframe thead th {\n",
       "        text-align: right;\n",
       "    }\n",
       "</style>\n",
       "<table border=\"1\" class=\"dataframe\">\n",
       "  <thead>\n",
       "    <tr style=\"text-align: right;\">\n",
       "      <th></th>\n",
       "      <th>Long</th>\n",
       "      <th>Lat</th>\n",
       "      <th>Place</th>\n",
       "    </tr>\n",
       "  </thead>\n",
       "  <tbody>\n",
       "    <tr>\n",
       "      <th>0</th>\n",
       "      <td>73.703220</td>\n",
       "      <td>15.684671</td>\n",
       "      <td>Arambol Beach</td>\n",
       "    </tr>\n",
       "    <tr>\n",
       "      <th>1</th>\n",
       "      <td>73.713005</td>\n",
       "      <td>15.657544</td>\n",
       "      <td>Mandrem Beach</td>\n",
       "    </tr>\n",
       "    <tr>\n",
       "      <th>2</th>\n",
       "      <td>73.716588</td>\n",
       "      <td>15.646697</td>\n",
       "      <td>Ashvem Beach</td>\n",
       "    </tr>\n",
       "    <tr>\n",
       "      <th>3</th>\n",
       "      <td>73.736329</td>\n",
       "      <td>15.615680</td>\n",
       "      <td>Morgim Beach</td>\n",
       "    </tr>\n",
       "    <tr>\n",
       "      <th>4</th>\n",
       "      <td>73.733518</td>\n",
       "      <td>15.602660</td>\n",
       "      <td>Vagator Beach</td>\n",
       "    </tr>\n",
       "  </tbody>\n",
       "</table>\n",
       "</div>"
      ],
      "text/plain": [
       "        Long        Lat          Place\n",
       "0  73.703220  15.684671  Arambol Beach\n",
       "1  73.713005  15.657544  Mandrem Beach\n",
       "2  73.716588  15.646697   Ashvem Beach\n",
       "3  73.736329  15.615680   Morgim Beach\n",
       "4  73.733518  15.602660  Vagator Beach"
      ]
     },
     "execution_count": 130,
     "metadata": {},
     "output_type": "execute_result"
    }
   ],
   "source": [
    "places_df = day_df_new\n",
    "places_df.head()"
   ]
  },
  {
   "cell_type": "code",
   "execution_count": 131,
   "metadata": {},
   "outputs": [],
   "source": [
    "goa_cluster = KMeans(n_clusters=7)\n",
    "\n",
    "# We will only use latitude and longitudes to fit the data. \n",
    "data  = places_df[['Long','Lat']].values\n",
    "\n",
    "predict = goa_cluster.fit_predict(data)"
   ]
  },
  {
   "cell_type": "code",
   "execution_count": 132,
   "metadata": {},
   "outputs": [
    {
     "data": {
      "text/html": [
       "<div>\n",
       "<style scoped>\n",
       "    .dataframe tbody tr th:only-of-type {\n",
       "        vertical-align: middle;\n",
       "    }\n",
       "\n",
       "    .dataframe tbody tr th {\n",
       "        vertical-align: top;\n",
       "    }\n",
       "\n",
       "    .dataframe thead th {\n",
       "        text-align: right;\n",
       "    }\n",
       "</style>\n",
       "<table border=\"1\" class=\"dataframe\">\n",
       "  <thead>\n",
       "    <tr style=\"text-align: right;\">\n",
       "      <th></th>\n",
       "      <th>Long</th>\n",
       "      <th>Lat</th>\n",
       "      <th>Place</th>\n",
       "      <th>day</th>\n",
       "    </tr>\n",
       "  </thead>\n",
       "  <tbody>\n",
       "    <tr>\n",
       "      <th>0</th>\n",
       "      <td>73.703220</td>\n",
       "      <td>15.684671</td>\n",
       "      <td>Arambol Beach</td>\n",
       "      <td>5</td>\n",
       "    </tr>\n",
       "    <tr>\n",
       "      <th>1</th>\n",
       "      <td>73.713005</td>\n",
       "      <td>15.657544</td>\n",
       "      <td>Mandrem Beach</td>\n",
       "      <td>5</td>\n",
       "    </tr>\n",
       "    <tr>\n",
       "      <th>2</th>\n",
       "      <td>73.716588</td>\n",
       "      <td>15.646697</td>\n",
       "      <td>Ashvem Beach</td>\n",
       "      <td>5</td>\n",
       "    </tr>\n",
       "    <tr>\n",
       "      <th>3</th>\n",
       "      <td>73.736329</td>\n",
       "      <td>15.615680</td>\n",
       "      <td>Morgim Beach</td>\n",
       "      <td>5</td>\n",
       "    </tr>\n",
       "    <tr>\n",
       "      <th>4</th>\n",
       "      <td>73.733518</td>\n",
       "      <td>15.602660</td>\n",
       "      <td>Vagator Beach</td>\n",
       "      <td>5</td>\n",
       "    </tr>\n",
       "  </tbody>\n",
       "</table>\n",
       "</div>"
      ],
      "text/plain": [
       "        Long        Lat          Place  day\n",
       "0  73.703220  15.684671  Arambol Beach    5\n",
       "1  73.713005  15.657544  Mandrem Beach    5\n",
       "2  73.716588  15.646697   Ashvem Beach    5\n",
       "3  73.736329  15.615680   Morgim Beach    5\n",
       "4  73.733518  15.602660  Vagator Beach    5"
      ]
     },
     "execution_count": 132,
     "metadata": {},
     "output_type": "execute_result"
    }
   ],
   "source": [
    "## concatenate these predictions as a new column in original data representing each day\n",
    "day_df = pd.concat([places_df.reset_index(), \n",
    "                       pd.DataFrame({'day':predict})], \n",
    "                      axis=1)\n",
    "# after concatination drom the first duplicate index\n",
    "day_df.drop('index', axis=1, inplace=True)\n",
    "day_df.head(5)"
   ]
  },
  {
   "cell_type": "code",
   "execution_count": 140,
   "metadata": {},
   "outputs": [
    {
     "data": {
      "image/png": "[encoded data removed]",
      "text/plain": [
       "<Figure size 1440x576 with 2 Axes>"
      ]
     },
     "metadata": {},
     "output_type": "display_data"
    }
   ],
   "source": [
    "fig = plt.figure(figsize=(20,8))\n",
    "cmap=plt.cm.Dark2\n",
    "norm = matplotlib.colors.BoundaryNorm(np.arange(0,8,1), cmap.N)\n",
    "plt.scatter(day_df['Long'], day_df['Lat'], c=day_df['day'] , cmap=cmap, marker = 9, norm=norm, s=50, edgecolor='none')\n",
    "\n",
    "plt.colorbar(ticks=np.linspace(0,6,7))\n",
    "plt.xlabel('Latitude', fontsize=10)\n",
    "plt.ylabel('Longitude', fontsize=10)\n",
    "plt.title('Places cluster', fontsize=14)\n",
    "plt.grid()\n",
    "plt.show()"
   ]
  },
  {
   "cell_type": "code",
   "execution_count": 141,
   "metadata": {},
   "outputs": [],
   "source": [
    "#put on google map\n",
    "# import gmplot package \n",
    "import gmplot \n",
    "  \n",
    "# GoogleMapPlotter return Map object \n",
    "# Pass the center latitude and \n",
    "# center longitude \n",
    "gmap1 = gmplot.GoogleMapPlotter( 15.374774, 73.838768,10)\n",
    "\n",
    "colormap = ['red','blue','green','black','cyan','magenta','brown']\n",
    "for i in range(0, len(day_df)):\n",
    "    lat = [0]\n",
    "    long = [0]\n",
    "    colorv =[0]\n",
    "    lat [0]= day_df.Lat[i]\n",
    "    long [0]= day_df.Long[i]\n",
    "    colorv = colormap[day_df.day[i]]\n",
    "   \n",
    "    gmap1.scatter( lat, long, color = colorv, \n",
    "                              size = 1500 , marker= False ) \n",
    "\n",
    "gmap1.draw(\"TravelMap_new.html\")"
   ]
  },
  {
   "cell_type": "markdown",
   "metadata": {},
   "source": [
    "So here we are with our clustering and map. We can improve it with HDBSCAN clustering further. or can build customize routes and travel plan on the basis of user preferences."
   ]
  },
  {
   "cell_type": "code",
   "execution_count": null,
   "metadata": {},
   "outputs": [],
   "source": []
  }
 ],
 "metadata": {
  "kernelspec": {
   "display_name": "Python 3",
   "language": "python",
   "name": "python3"
  },
  "language_info": {
   "codemirror_mode": {
    "name": "ipython",
    "version": 3
   },
   "file_extension": ".py",
   "mimetype": "text/x-python",
   "name": "python",
   "nbconvert_exporter": "python",
   "pygments_lexer": "ipython3",
   "version": "3.6.5"
  }
 },
 "nbformat": 4,
 "nbformat_minor": 2
}
