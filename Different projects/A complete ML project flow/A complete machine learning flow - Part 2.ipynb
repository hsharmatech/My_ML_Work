{
 "cells": [
  {
   "cell_type": "markdown",
   "metadata": {},
   "source": [
    "# Introduction: Machine Learning Project Part 2\n",
    "In this series of notebooks, we are working on a supervised, regression machine learning problem. Using real-world New York City building energy data, we want to predict the Energy Star Score of a building and determine the factors that influence the score.\n",
    "\n",
    "We are using the general outline of the machine learning pipeline to structure our project:\n",
    "\n",
    "    -Data cleaning and formatting\n",
    "    -Exploratory data analysis\n",
    "    -Feature engineering and selection\n",
    "    -Compare several machine learning models on a performance metric\n",
    "    -Perform hyperparameter tuning on the best model to optimize it for the problem\n",
    "    -Evaluate the best model on the testing set\n",
    "    -Interpret the model results to the extent possible\n",
    "    -Draw conclusions and write a well-documented report\n",
    "\n",
    "The first notebook covered steps 1-3, and in this notebook, we will cover 4-6. "
   ]
  },
  {
   "cell_type": "markdown",
   "metadata": {},
   "source": [
    "### imports"
   ]
  },
  {
   "cell_type": "code",
   "execution_count": 1,
   "metadata": {},
   "outputs": [],
   "source": [
    "# Pandas and numpy for data manipulation\n",
    "import pandas as pd\n",
    "import numpy as np\n",
    "\n",
    "# No warnings about setting value on copy of slice\n",
    "pd.options.mode.chained_assignment = None\n",
    "pd.set_option('display.max_columns', 60)\n",
    "\n",
    "# Matplotlib for visualization\n",
    "import matplotlib.pyplot as plt\n",
    "%matplotlib inline\n",
    "\n",
    "# Set default font size\n",
    "plt.rcParams['font.size'] = 24\n",
    "\n",
    "from IPython.core.pylabtools import figsize\n",
    "\n",
    "# Seaborn for visualization\n",
    "import seaborn as sns\n",
    "sns.set(font_scale = 2)\n",
    "\n",
    "# Imputing missing values and scaling values\n",
    "from sklearn.preprocessing import Imputer, MinMaxScaler\n",
    "\n",
    "# Machine Learning Models\n",
    "from sklearn.linear_model import LinearRegression\n",
    "from sklearn.ensemble import RandomForestRegressor, GradientBoostingRegressor\n",
    "from sklearn.svm import SVR\n",
    "from sklearn.neighbors import KNeighborsRegressor\n",
    "\n",
    "# Hyperparameter tuning\n",
    "from sklearn.model_selection import RandomizedSearchCV, GridSearchCV"
   ]
  },
  {
   "cell_type": "markdown",
   "metadata": {},
   "source": [
    "### Read data"
   ]
  },
  {
   "cell_type": "code",
   "execution_count": 2,
   "metadata": {},
   "outputs": [
    {
     "name": "stdout",
     "output_type": "stream",
     "text": [
      "Training Feature Size:  (6622, 62)\n",
      "Testing Feature Size:   (2839, 62)\n",
      "Training Labels Size:   (6622, 1)\n",
      "Testing Labels Size:    (2839, 1)\n"
     ]
    }
   ],
   "source": [
    "# Read in data into dataframes \n",
    "train_features = pd.read_csv('data/training_features.csv')\n",
    "test_features = pd.read_csv('data/testing_features.csv')\n",
    "train_labels = pd.read_csv('data/training_labels.csv')\n",
    "test_labels = pd.read_csv('data/testing_labels.csv')\n",
    "\n",
    "# Display sizes of data\n",
    "print('Training Feature Size: ', train_features.shape)\n",
    "print('Testing Feature Size:  ', test_features.shape)\n",
    "print('Training Labels Size:  ', train_labels.shape)\n",
    "print('Testing Labels Size:   ', test_labels.shape)"
   ]
  },
  {
   "cell_type": "markdown",
   "metadata": {},
   "source": [
    "## Evaluating and Comparing Machine Learning Models\n",
    "\n",
    "In this section we will build, train, and evalute several machine learning methods for our supervised regression task. The objective is to determine which model holds the most promise for further development (such as hyperparameter tuning).\n",
    "\n",
    "We are comparing models using the mean absolute error. __A baseline model that guessed the median value of the score was off by an average of 25 points.__\n",
    "\n"
   ]
  },
  {
   "cell_type": "markdown",
   "metadata": {},
   "source": [
    "### Imputing Missing Values\n",
    "Standard machine learning models cannot deal with missing values, and which means we have to find a way to fill these in or disard any features with missing values. Since we already removed features with more than 50% missing values in the first part, here we will focus on filling in these missing values, a process known as __imputation__). There are a number of methods for imputation but here we will use the relatively simple method of replacing missing values with the median of the column. (Here is a more thorough discussion on imputing missing values)\n",
    "\n",
    "In the code below, we create a Scikit-learn Imputer object to fill in missing values with the median of the column. Notice that we train the imputer (using the Imputer.fit method) on the training data but not the testing data. We then transform (using Imputer.transform) both the training data and testing data. This means that the missing values in the testing set are filled in with the median value of the corresponding columns in the training set. We have to do it this way rather than because at deployment time, we will have to impute the missing values in new observations based on the previous training data. This is one way to avoid the problem known as data leakage where information from the testing set \"leaks\" into the training process."
   ]
  },
  {
   "cell_type": "code",
   "execution_count": 3,
   "metadata": {},
   "outputs": [],
   "source": [
    "\n",
    "# Create an imputer object with a median filling strategy\n",
    "imputer = Imputer(strategy='median')\n",
    "\n",
    "# Train on the training features\n",
    "imputer.fit(train_features)\n",
    "\n",
    "# Transform both training data and testing data\n",
    "X = imputer.transform(train_features)\n",
    "X_test = imputer.transform(test_features)"
   ]
  },
  {
   "cell_type": "code",
   "execution_count": 4,
   "metadata": {},
   "outputs": [
    {
     "name": "stdout",
     "output_type": "stream",
     "text": [
      "Missing values in training features:  0\n",
      "Missing values in testing features:   0\n"
     ]
    }
   ],
   "source": [
    "print('Missing values in training features: ', np.sum(np.isnan(X)))\n",
    "print('Missing values in testing features:  ', np.sum(np.isnan(X_test)))"
   ]
  },
  {
   "cell_type": "code",
   "execution_count": 5,
   "metadata": {},
   "outputs": [
    {
     "name": "stdout",
     "output_type": "stream",
     "text": [
      "(array([], dtype=int64), array([], dtype=int64))\n",
      "(array([], dtype=int64), array([], dtype=int64))\n"
     ]
    }
   ],
   "source": [
    "\n",
    "# Make sure all values are finite\n",
    "print(np.where(~np.isfinite(X)))\n",
    "print(np.where(~np.isfinite(X_test)))"
   ]
  },
  {
   "cell_type": "markdown",
   "metadata": {},
   "source": [
    "## Scaling Features\n",
    "The final step to take before we can build our models is to scale the features. This is necessary because features are in different units, and we want to normalize the features so the units do not affect the algorithm. **Linear Regression and Random Forest do not require feature scaling**, but other methods, such as support vector machines and k nearest neighbors, do require it because they take into account the Euclidean distance between observations. For this reason, it is a best practice to scale features when we are comparing multiple algorithms.\n",
    "\n",
    "There are two ways to scale features:\n",
    "\n",
    "    1. For each value, subtract the mean of the feature and divide by the standard deviation of the feature. This is known as standardization and results in each feature having a mean of 0 and a standard deviation of 1.\n",
    "    2.For each value, subtract the minimum value of the feature and divide by the maximum minus the minimum for the feature (the range). This assures that all the values for a feature are between 0 and 1 and is called scaling to a range or normalization.\n",
    "\n",
    "\n",
    "As with imputation, when we train the scaling object, we want to use only the training set. When we transform features, we will transform both the training set and the testing set."
   ]
  },
  {
   "cell_type": "code",
   "execution_count": 8,
   "metadata": {},
   "outputs": [],
   "source": [
    "# Create the scaler object with a range of 0-1\n",
    "scaler = MinMaxScaler(feature_range=(0, 1))\n",
    "\n",
    "# Fit on the training data\n",
    "scaler.fit(X)\n",
    "\n",
    "# Transform both the training and testing data\n",
    "X = scaler.transform(X)\n",
    "X_test = scaler.transform(X_test)"
   ]
  },
  {
   "cell_type": "code",
   "execution_count": 9,
   "metadata": {},
   "outputs": [],
   "source": [
    "# Convert y to one-dimensional array (vector)\n",
    "y = np.array(train_labels).reshape((-1, ))\n",
    "y_test = np.array(test_labels).reshape((-1, ))"
   ]
  },
  {
   "cell_type": "markdown",
   "metadata": {},
   "source": [
    "# Models to Evaluate\n",
    "We will compare five different machine learning models using the great Scikit-Learn library:\n",
    "\n",
    "    1.Linear Regression\n",
    "    2.Support Vector Machine Regression\n",
    "    3.Random Forest Regression\n",
    "    4.Gradient Boosting Regression\n",
    "    5.K-Nearest Neighbors Regression\n",
    "    \n",
    "Again, here I'm focusing on implementation rather than explaining how these work. In addition to Hands-On Machine Learning, another great resource (this one is free online) for reading about machine learning models is An Introduction to Statistical Learning.\n",
    "\n",
    "To compare the models, we are going to be mostly using the Scikit-Learn defaults for the model hyperparameters. Generally these will perform decently, but should be optimized before actually using a model. At first, we just want to determine the baseline performance of each model, and then we can select the best performing model for further optimization using hyperparameter tuning. Remember that the default hyperparameters will get a model up and running, but nearly always should be adjusted using some sort of search to find the best settings for your problem!\n",
    "\n",
    "One of the best parts about scikit-learn is that all models are implemented in an identical manner: once you know how to build one, you can implement an extremely diverse array of models. Here we will implement the entire training and testing procedures for a number of models in just a few lines of code."
   ]
  },
  {
   "cell_type": "code",
   "execution_count": 10,
   "metadata": {},
   "outputs": [],
   "source": [
    "# Function to calculate mean absolute error\n",
    "def mae(y_true, y_pred):\n",
    "    return np.mean(abs(y_true - y_pred))\n",
    "\n",
    "# Takes in a model, trains the model, and evaluates the model on the test set\n",
    "def fit_and_evaluate(model):\n",
    "    \n",
    "    # Train the model\n",
    "    model.fit(X, y)\n",
    "    \n",
    "    # Make predictions and evalute\n",
    "    model_pred = model.predict(X_test)\n",
    "    model_mae = mae(y_test, model_pred)\n",
    "    \n",
    "    # Return the performance metric\n",
    "    return model_mae"
   ]
  },
  {
   "cell_type": "code",
   "execution_count": 11,
   "metadata": {},
   "outputs": [
    {
     "name": "stdout",
     "output_type": "stream",
     "text": [
      "Linear Regression Performance on the test set: MAE = 13.6391\n"
     ]
    }
   ],
   "source": [
    "lr = LinearRegression()\n",
    "lr_mae = fit_and_evaluate(lr)\n",
    "\n",
    "print('Linear Regression Performance on the test set: MAE = %0.4f' % lr_mae)"
   ]
  },
  {
   "cell_type": "code",
   "execution_count": 13,
   "metadata": {},
   "outputs": [
    {
     "name": "stdout",
     "output_type": "stream",
     "text": [
      "Support Vector Machine Regression Performance on the test set: MAE = 10.9899\n"
     ]
    }
   ],
   "source": [
    "svm = SVR(C = 1000, gamma = 0.1)\n",
    "svm_mae = fit_and_evaluate(svm)\n",
    "\n",
    "print('Support Vector Machine Regression Performance on the test set: MAE = %0.4f' % svm_mae)"
   ]
  },
  {
   "cell_type": "code",
   "execution_count": 14,
   "metadata": {},
   "outputs": [
    {
     "name": "stdout",
     "output_type": "stream",
     "text": [
      "Random Forest Regression Performance on the test set: MAE = 9.8413\n"
     ]
    }
   ],
   "source": [
    "random_forest = RandomForestRegressor(random_state=60)\n",
    "random_forest_mae = fit_and_evaluate(random_forest)\n",
    "\n",
    "print('Random Forest Regression Performance on the test set: MAE = %0.4f' % random_forest_mae)"
   ]
  },
  {
   "cell_type": "code",
   "execution_count": 15,
   "metadata": {},
   "outputs": [
    {
     "name": "stdout",
     "output_type": "stream",
     "text": [
      "Gradient Boosted Regression Performance on the test set: MAE = 9.8399\n"
     ]
    }
   ],
   "source": [
    "gradient_boosted = GradientBoostingRegressor(random_state=60)\n",
    "gradient_boosted_mae = fit_and_evaluate(gradient_boosted)\n",
    "\n",
    "print('Gradient Boosted Regression Performance on the test set: MAE = %0.4f' % gradient_boosted_mae)"
   ]
  },
  {
   "cell_type": "code",
   "execution_count": 16,
   "metadata": {},
   "outputs": [
    {
     "name": "stdout",
     "output_type": "stream",
     "text": [
      "K-Nearest Neighbors Regression Performance on the test set: MAE = 12.0977\n"
     ]
    }
   ],
   "source": [
    "knn = KNeighborsRegressor(n_neighbors=10)\n",
    "knn_mae = fit_and_evaluate(knn)\n",
    "\n",
    "print('K-Nearest Neighbors Regression Performance on the test set: MAE = %0.4f' % knn_mae)"
   ]
  },
  {
   "cell_type": "code",
   "execution_count": 17,
   "metadata": {},
   "outputs": [
    {
     "data": {
      "image/png": "[encoded data removed]",
      "text/plain": [
       "<Figure size 576x432 with 1 Axes>"
      ]
     },
     "metadata": {},
     "output_type": "display_data"
    }
   ],
   "source": [
    "plt.style.use('fivethirtyeight')\n",
    "figsize(8, 6)\n",
    "\n",
    "# Dataframe to hold the results\n",
    "model_comparison = pd.DataFrame({'model': ['Linear Regression', 'Support Vector Machine',\n",
    "                                           'Random Forest', 'Gradient Boosted',\n",
    "                                            'K-Nearest Neighbors'],\n",
    "                                 'mae': [lr_mae, svm_mae, random_forest_mae, \n",
    "                                         gradient_boosted_mae, knn_mae]})\n",
    "\n",
    "# Horizontal bar chart of test mae\n",
    "model_comparison.sort_values('mae', ascending = False).plot(x = 'model', y = 'mae', kind = 'barh',\n",
    "                                                           color = 'red', edgecolor = 'black')\n",
    "\n",
    "# Plot formatting\n",
    "plt.ylabel(''); plt.yticks(size = 14); plt.xlabel('Mean Absolute Error'); plt.xticks(size = 14)\n",
    "plt.title('Model Comparison on Test MAE', size = 20);"
   ]
  },
  {
   "cell_type": "markdown",
   "metadata": {},
   "source": [
    "Depending on the run (the exact results change slighty each time), the gradient boosting regressor performs the best followed by the random forest. I have to admit that this is not the most fair comparison because we are using mostly the default hyperparameters. Especially with the Support Vector Regressor, the hyperparameters have a significant influence on performance. (the random forest and gradient boosting methods are great for starting out because the performance is less dependent on the model settings). Nonetheless, from these results, we can conclude that machine learning is applicable because all the models significantly outperform the baseline!\n",
    "\n",
    "From here, I am going to concentrate on optimizing the best model using hyperparamter tuning. Given the results here, I will concentrate on using the GradientBoostingRegressor. This is the Scikit-Learn implementation of Gradient Boosted Trees which has won many Kaggle competitions in the past few years. The Scikit-Learn version is generally slower than the XGBoost version, but here we'll stick to Scikit-Learn because the syntax is more familiar. Here's a guide to using the implementation in the XGBoost package."
   ]
  },
  {
   "cell_type": "markdown",
   "metadata": {},
   "source": [
    "# Model Optimization\n",
    "In machine learning, optimizing a model means finding the best set of hyperparameters for a particular problem."
   ]
  },
  {
   "cell_type": "markdown",
   "metadata": {},
   "source": [
    "## Hyperparameters\n",
    "First off, we need to understand what model hyperparameters are in contrast to model parameters :\n",
    "\n",
    "1. **Model hyperparameters** are best thought of as settings for a machine learning algorithm that are tuned by the data scientist before training. Examples would be the number of trees in the random forest, or the number of neighbors used in K Nearest Neighbors Regression.\n",
    "2. **Model parameters** are what the model learns during training, such as the weights in the linear regression.\n",
    "We as data scientists control a model by choosing the hyperparameters, and these choices can have a significant effect on the final performance of the model (although usually not as great of an effect as getting more data or engineering features).\n",
    "\n",
    "Tuning the model hyperparameters controls the balance of under vs over fitting in a model. We can try to correct for under-fitting by making a more complex model, such as using more trees in a random forest or more layers in a deep neural network. A model that underfits has high bias, and occurs when our model does not have enough capacity (degrees of freedom) to learn the relationship between the features and the target. We can try to correct for overfitting by limiting the complexity of the model and applying regularization. This might mean decreasing the degree of a polynomial regression, or adding dropout layers to a deep neural network. A model that overfits has high variance and in effect has memorized the training set. Both underfitting and overfitting lead to poor generalization performance on the test set.\n",
    "\n",
    "The problem with choosing the hyperparameters is that no set will work best across all problems. Therefore, for every new dataset, we have to find the best settings. This can be a time-consuming process, but luckily there are several options for performing this procedure in Scikit-Learn. Even better, new libraries, such as TPOT by epistasis labs, is aiming to do this process automatically for you! For now, we will stick to doing this manually (sort of) in Scikit-Learn, but stay tuned for an article on automatic model selection!"
   ]
  },
  {
   "cell_type": "markdown",
   "metadata": {},
   "source": [
    "## Hyperparameter Tuning with Random Search and Cross Validation\n",
    "We can choose the best hyperparameters for a model through random search and cross validation.\n",
    "\n",
    "1. __Random search refers to the method in which we choose hyperparameters to evaluate:__ we define a range of options, and then randomly select combinations to try. This is in contrast to grid search which evaluates every single combination we specify. Generally, random search is better when we have limited knowledge of the best model hyperparameters and we can use random search to narrow down the options and then use grid search with a more limited range of options.\n",
    "\n",
    "2. __Cross validation is the method used to assess the performance of the hyperparameters.__ Rather than splitting the training set up into separate training and validation sets which reduces the amount of training data we can use, we use K-Fold Cross Validation. This means dividing the training data into K folds, and then going through an iterative process where we first train on K-1 of the folds and then evaluate performance on the kth fold. We repeat this process K times so eventually we will have tested on every example in the training data with the key that each iteration we are testing on data that we did not train on. At the end of K-fold cross validation, we take the average error on each of the K iterations as the final performance measure and then train the model on all the training data at once. The performance we record is then used to compare different combinations of hyperparameters."
   ]
  },
  {
   "cell_type": "markdown",
   "metadata": {},
   "source": [
    "Here we will implement random search with cross validation to select the optimal hyperparameters for the gradient boosting regressor. We first define a grid then peform an iterative process of: randomly sample a set of hyperparameters from the grid, evaluate the hyperparameters using 4-fold cross-validation, and then select the hyperparameters with the best performance.\n",
    "\n",
    "Of course we don't actually do this iteration ourselves, we let Scikit-Learn and RandomizedSearchCV do the process for us!"
   ]
  },
  {
   "cell_type": "code",
   "execution_count": 18,
   "metadata": {},
   "outputs": [],
   "source": [
    "# Loss function to be optimized\n",
    "loss = ['ls', 'lad', 'huber']\n",
    "\n",
    "# Number of trees used in the boosting process\n",
    "n_estimators = [100, 500, 900, 1100, 1500]\n",
    "\n",
    "# Maximum depth of each tree\n",
    "max_depth = [2, 3, 5, 10, 15]\n",
    "\n",
    "# Minimum number of samples per leaf\n",
    "min_samples_leaf = [1, 2, 4, 6, 8]\n",
    "\n",
    "# Minimum number of samples to split a node\n",
    "min_samples_split = [2, 4, 6, 10]\n",
    "\n",
    "# Maximum number of features to consider for making splits\n",
    "max_features = ['auto', 'sqrt', 'log2', None]\n",
    "\n",
    "# Define the grid of hyperparameters to search\n",
    "hyperparameter_grid = {'loss': loss,\n",
    "                       'n_estimators': n_estimators,\n",
    "                       'max_depth': max_depth,\n",
    "                       'min_samples_leaf': min_samples_leaf,\n",
    "                       'min_samples_split': min_samples_split,\n",
    "                       'max_features': max_features}"
   ]
  },
  {
   "cell_type": "markdown",
   "metadata": {},
   "source": [
    "We selected 6 different hyperparameters to tune in the gradient boosting regressor. These all will affect the model in different ways that are hard to determine ahead of time, and the only method for finding the best combination for a specific problem is to test them out! To read about the hyperparameters, I suggest taking a look at the Scikit-Learn documentation. For now, just know that we are trying to find the best combination of hyperparameters and because there is no theory to tell us which will work best, we just have to evaluate them, like runnning an experiment!"
   ]
  },
  {
   "cell_type": "markdown",
   "metadata": {},
   "source": [
    "In the code below, we create the Randomized Search Object passing in the following parameters:\n",
    "\n",
    "    estimator: the model\n",
    "    param_distributions: the distribution of parameters we defined\n",
    "    cv the number of folds to use for k-fold cross validation\n",
    "    n_iter: the number of different combinations to try\n",
    "    scoring: which metric to use when evaluating candidates\n",
    "    n_jobs: number of cores to run in parallel (-1 will use all available)\n",
    "    verbose: how much information to display (1 displays a limited amount)\n",
    "    return_train_score: return the training score for each cross-validation fold\n",
    "    random_state: fixes the random number generator used so we get the same results every run\n",
    "    \n",
    "The Randomized Search Object is trained the same way as any other scikit-learn model. After training, we can compare all the different hyperparameter combinations and find the best performing one."
   ]
  },
  {
   "cell_type": "code",
   "execution_count": 19,
   "metadata": {},
   "outputs": [],
   "source": [
    "# Create the model to use for hyperparameter tuning\n",
    "model = GradientBoostingRegressor(random_state = 42)\n",
    "\n",
    "# Set up the random search with 4-fold cross validation\n",
    "random_cv = RandomizedSearchCV(estimator=model,\n",
    "                               param_distributions=hyperparameter_grid,\n",
    "                               cv=4, n_iter=25, \n",
    "                               scoring = 'neg_mean_absolute_error',\n",
    "                               n_jobs = -1, verbose = 1, \n",
    "                               return_train_score = True,\n",
    "                               random_state=42)"
   ]
  },
  {
   "cell_type": "code",
   "execution_count": 20,
   "metadata": {},
   "outputs": [
    {
     "name": "stdout",
     "output_type": "stream",
     "text": [
      "Fitting 4 folds for each of 25 candidates, totalling 100 fits\n"
     ]
    },
    {
     "name": "stderr",
     "output_type": "stream",
     "text": [
      "[Parallel(n_jobs=-1)]: Done  42 tasks      | elapsed:  6.6min\n",
      "[Parallel(n_jobs=-1)]: Done 100 out of 100 | elapsed: 12.2min finished\n"
     ]
    },
    {
     "data": {
      "text/plain": [
       "RandomizedSearchCV(cv=4, error_score='raise',\n",
       "          estimator=GradientBoostingRegressor(alpha=0.9, criterion='friedman_mse', init=None,\n",
       "             learning_rate=0.1, loss='ls', max_depth=3, max_features=None,\n",
       "             max_leaf_nodes=None, min_impurity_decrease=0.0,\n",
       "             min_impurity_split=None, min_samples_leaf=1,\n",
       "             min_samples_split=2, min_weight_fraction_leaf=0.0,\n",
       "             n_estimators=100, presort='auto', random_state=42,\n",
       "             subsample=1.0, verbose=0, warm_start=False),\n",
       "          fit_params=None, iid=True, n_iter=25, n_jobs=-1,\n",
       "          param_distributions={'loss': ['ls', 'lad', 'huber'], 'n_estimators': [100, 500, 900, 1100, 1500], 'max_depth': [2, 3, 5, 10, 15], 'min_samples_leaf': [1, 2, 4, 6, 8], 'min_samples_split': [2, 4, 6, 10], 'max_features': ['auto', 'sqrt', 'log2', None]},\n",
       "          pre_dispatch='2*n_jobs', random_state=42, refit=True,\n",
       "          return_train_score=True, scoring='neg_mean_absolute_error',\n",
       "          verbose=1)"
      ]
     },
     "execution_count": 20,
     "metadata": {},
     "output_type": "execute_result"
    }
   ],
   "source": [
    "\n",
    "# Fit on the training data\n",
    "random_cv.fit(X, y)"
   ]
  },
  {
   "cell_type": "markdown",
   "metadata": {},
   "source": [
    "Scikit-learn uses the negative mean absolute error for evaluation because it wants a metric to maximize. Therefore, a better score will be closer to 0. We can get the results of the randomized search into a dataframe, and sort the values by performance."
   ]
  },
  {
   "cell_type": "code",
   "execution_count": 21,
   "metadata": {},
   "outputs": [
    {
     "data": {
      "text/html": [
       "<div>\n",
       "<style scoped>\n",
       "    .dataframe tbody tr th:only-of-type {\n",
       "        vertical-align: middle;\n",
       "    }\n",
       "\n",
       "    .dataframe tbody tr th {\n",
       "        vertical-align: top;\n",
       "    }\n",
       "\n",
       "    .dataframe thead th {\n",
       "        text-align: right;\n",
       "    }\n",
       "</style>\n",
       "<table border=\"1\" class=\"dataframe\">\n",
       "  <thead>\n",
       "    <tr style=\"text-align: right;\">\n",
       "      <th></th>\n",
       "      <th>mean_fit_time</th>\n",
       "      <th>std_fit_time</th>\n",
       "      <th>mean_score_time</th>\n",
       "      <th>std_score_time</th>\n",
       "      <th>param_n_estimators</th>\n",
       "      <th>param_min_samples_split</th>\n",
       "      <th>param_min_samples_leaf</th>\n",
       "      <th>param_max_features</th>\n",
       "      <th>param_max_depth</th>\n",
       "      <th>param_loss</th>\n",
       "      <th>params</th>\n",
       "      <th>split0_test_score</th>\n",
       "      <th>split1_test_score</th>\n",
       "      <th>split2_test_score</th>\n",
       "      <th>split3_test_score</th>\n",
       "      <th>mean_test_score</th>\n",
       "      <th>std_test_score</th>\n",
       "      <th>rank_test_score</th>\n",
       "      <th>split0_train_score</th>\n",
       "      <th>split1_train_score</th>\n",
       "      <th>split2_train_score</th>\n",
       "      <th>split3_train_score</th>\n",
       "      <th>mean_train_score</th>\n",
       "      <th>std_train_score</th>\n",
       "    </tr>\n",
       "  </thead>\n",
       "  <tbody>\n",
       "    <tr>\n",
       "      <th>12</th>\n",
       "      <td>18.448143</td>\n",
       "      <td>0.689131</td>\n",
       "      <td>0.038498</td>\n",
       "      <td>0.006940</td>\n",
       "      <td>500</td>\n",
       "      <td>6</td>\n",
       "      <td>6</td>\n",
       "      <td>None</td>\n",
       "      <td>5</td>\n",
       "      <td>lad</td>\n",
       "      <td>{'n_estimators': 500, 'min_samples_split': 6, ...</td>\n",
       "      <td>-9.115582</td>\n",
       "      <td>-8.990045</td>\n",
       "      <td>-8.858785</td>\n",
       "      <td>-8.972955</td>\n",
       "      <td>-8.984362</td>\n",
       "      <td>0.091037</td>\n",
       "      <td>1</td>\n",
       "      <td>-6.961005</td>\n",
       "      <td>-7.176300</td>\n",
       "      <td>-7.036716</td>\n",
       "      <td>-6.779680</td>\n",
       "      <td>-6.988425</td>\n",
       "      <td>0.143139</td>\n",
       "    </tr>\n",
       "    <tr>\n",
       "      <th>3</th>\n",
       "      <td>19.298104</td>\n",
       "      <td>0.279225</td>\n",
       "      <td>0.028751</td>\n",
       "      <td>0.001600</td>\n",
       "      <td>500</td>\n",
       "      <td>6</td>\n",
       "      <td>8</td>\n",
       "      <td>None</td>\n",
       "      <td>5</td>\n",
       "      <td>huber</td>\n",
       "      <td>{'n_estimators': 500, 'min_samples_split': 6, ...</td>\n",
       "      <td>-9.166009</td>\n",
       "      <td>-9.059157</td>\n",
       "      <td>-8.942831</td>\n",
       "      <td>-9.049787</td>\n",
       "      <td>-9.054464</td>\n",
       "      <td>0.078975</td>\n",
       "      <td>2</td>\n",
       "      <td>-4.560360</td>\n",
       "      <td>-4.331602</td>\n",
       "      <td>-4.651687</td>\n",
       "      <td>-4.498940</td>\n",
       "      <td>-4.510647</td>\n",
       "      <td>0.116788</td>\n",
       "    </tr>\n",
       "    <tr>\n",
       "      <th>9</th>\n",
       "      <td>11.709762</td>\n",
       "      <td>0.631721</td>\n",
       "      <td>0.022623</td>\n",
       "      <td>0.004892</td>\n",
       "      <td>500</td>\n",
       "      <td>4</td>\n",
       "      <td>2</td>\n",
       "      <td>auto</td>\n",
       "      <td>3</td>\n",
       "      <td>huber</td>\n",
       "      <td>{'n_estimators': 500, 'min_samples_split': 4, ...</td>\n",
       "      <td>-9.247069</td>\n",
       "      <td>-9.030133</td>\n",
       "      <td>-9.004433</td>\n",
       "      <td>-9.092137</td>\n",
       "      <td>-9.093457</td>\n",
       "      <td>0.094260</td>\n",
       "      <td>3</td>\n",
       "      <td>-6.975570</td>\n",
       "      <td>-7.154433</td>\n",
       "      <td>-7.177282</td>\n",
       "      <td>-7.073013</td>\n",
       "      <td>-7.095075</td>\n",
       "      <td>0.079135</td>\n",
       "    </tr>\n",
       "    <tr>\n",
       "      <th>0</th>\n",
       "      <td>3.097247</td>\n",
       "      <td>0.277267</td>\n",
       "      <td>0.010628</td>\n",
       "      <td>0.002966</td>\n",
       "      <td>100</td>\n",
       "      <td>2</td>\n",
       "      <td>6</td>\n",
       "      <td>auto</td>\n",
       "      <td>5</td>\n",
       "      <td>ls</td>\n",
       "      <td>{'n_estimators': 100, 'min_samples_split': 2, ...</td>\n",
       "      <td>-9.327100</td>\n",
       "      <td>-9.207782</td>\n",
       "      <td>-8.927312</td>\n",
       "      <td>-9.195407</td>\n",
       "      <td>-9.164432</td>\n",
       "      <td>0.146216</td>\n",
       "      <td>4</td>\n",
       "      <td>-7.477974</td>\n",
       "      <td>-7.356142</td>\n",
       "      <td>-7.377526</td>\n",
       "      <td>-7.526904</td>\n",
       "      <td>-7.434636</td>\n",
       "      <td>0.070382</td>\n",
       "    </tr>\n",
       "    <tr>\n",
       "      <th>7</th>\n",
       "      <td>9.340116</td>\n",
       "      <td>0.653509</td>\n",
       "      <td>0.019251</td>\n",
       "      <td>0.001819</td>\n",
       "      <td>500</td>\n",
       "      <td>4</td>\n",
       "      <td>6</td>\n",
       "      <td>auto</td>\n",
       "      <td>3</td>\n",
       "      <td>ls</td>\n",
       "      <td>{'n_estimators': 500, 'min_samples_split': 4, ...</td>\n",
       "      <td>-9.398703</td>\n",
       "      <td>-9.272112</td>\n",
       "      <td>-9.148244</td>\n",
       "      <td>-9.254474</td>\n",
       "      <td>-9.268404</td>\n",
       "      <td>0.088917</td>\n",
       "      <td>5</td>\n",
       "      <td>-7.125037</td>\n",
       "      <td>-7.143300</td>\n",
       "      <td>-7.162551</td>\n",
       "      <td>-7.205940</td>\n",
       "      <td>-7.159207</td>\n",
       "      <td>0.030066</td>\n",
       "    </tr>\n",
       "    <tr>\n",
       "      <th>10</th>\n",
       "      <td>88.221680</td>\n",
       "      <td>1.285331</td>\n",
       "      <td>0.125621</td>\n",
       "      <td>0.013437</td>\n",
       "      <td>1100</td>\n",
       "      <td>10</td>\n",
       "      <td>6</td>\n",
       "      <td>None</td>\n",
       "      <td>10</td>\n",
       "      <td>huber</td>\n",
       "      <td>{'n_estimators': 1100, 'min_samples_split': 10...</td>\n",
       "      <td>-9.425405</td>\n",
       "      <td>-9.401164</td>\n",
       "      <td>-9.195158</td>\n",
       "      <td>-9.395625</td>\n",
       "      <td>-9.354356</td>\n",
       "      <td>0.092574</td>\n",
       "      <td>6</td>\n",
       "      <td>-0.392344</td>\n",
       "      <td>-0.429195</td>\n",
       "      <td>-0.432028</td>\n",
       "      <td>-0.454672</td>\n",
       "      <td>-0.427060</td>\n",
       "      <td>0.022343</td>\n",
       "    </tr>\n",
       "    <tr>\n",
       "      <th>2</th>\n",
       "      <td>49.430949</td>\n",
       "      <td>1.682498</td>\n",
       "      <td>0.069750</td>\n",
       "      <td>0.016327</td>\n",
       "      <td>500</td>\n",
       "      <td>4</td>\n",
       "      <td>2</td>\n",
       "      <td>auto</td>\n",
       "      <td>10</td>\n",
       "      <td>huber</td>\n",
       "      <td>{'n_estimators': 500, 'min_samples_split': 4, ...</td>\n",
       "      <td>-9.436601</td>\n",
       "      <td>-9.533710</td>\n",
       "      <td>-9.250999</td>\n",
       "      <td>-9.354654</td>\n",
       "      <td>-9.394019</td>\n",
       "      <td>0.104080</td>\n",
       "      <td>7</td>\n",
       "      <td>-0.193105</td>\n",
       "      <td>-0.207781</td>\n",
       "      <td>-0.226477</td>\n",
       "      <td>-0.157665</td>\n",
       "      <td>-0.196257</td>\n",
       "      <td>0.025226</td>\n",
       "    </tr>\n",
       "    <tr>\n",
       "      <th>16</th>\n",
       "      <td>41.356919</td>\n",
       "      <td>0.859306</td>\n",
       "      <td>0.079248</td>\n",
       "      <td>0.022291</td>\n",
       "      <td>1500</td>\n",
       "      <td>4</td>\n",
       "      <td>6</td>\n",
       "      <td>None</td>\n",
       "      <td>3</td>\n",
       "      <td>ls</td>\n",
       "      <td>{'n_estimators': 1500, 'min_samples_split': 4,...</td>\n",
       "      <td>-9.477962</td>\n",
       "      <td>-9.414625</td>\n",
       "      <td>-9.227109</td>\n",
       "      <td>-9.520833</td>\n",
       "      <td>-9.410143</td>\n",
       "      <td>0.112206</td>\n",
       "      <td>8</td>\n",
       "      <td>-5.052768</td>\n",
       "      <td>-5.013440</td>\n",
       "      <td>-5.008505</td>\n",
       "      <td>-5.142340</td>\n",
       "      <td>-5.054263</td>\n",
       "      <td>0.053666</td>\n",
       "    </tr>\n",
       "    <tr>\n",
       "      <th>21</th>\n",
       "      <td>5.344136</td>\n",
       "      <td>0.249623</td>\n",
       "      <td>0.029873</td>\n",
       "      <td>0.000958</td>\n",
       "      <td>500</td>\n",
       "      <td>6</td>\n",
       "      <td>4</td>\n",
       "      <td>log2</td>\n",
       "      <td>5</td>\n",
       "      <td>huber</td>\n",
       "      <td>{'n_estimators': 500, 'min_samples_split': 6, ...</td>\n",
       "      <td>-9.621023</td>\n",
       "      <td>-9.567648</td>\n",
       "      <td>-9.428468</td>\n",
       "      <td>-9.414857</td>\n",
       "      <td>-9.508025</td>\n",
       "      <td>0.088506</td>\n",
       "      <td>9</td>\n",
       "      <td>-6.470650</td>\n",
       "      <td>-6.508238</td>\n",
       "      <td>-6.552119</td>\n",
       "      <td>-6.515560</td>\n",
       "      <td>-6.511642</td>\n",
       "      <td>0.028921</td>\n",
       "    </tr>\n",
       "    <tr>\n",
       "      <th>13</th>\n",
       "      <td>16.514022</td>\n",
       "      <td>0.341150</td>\n",
       "      <td>0.087246</td>\n",
       "      <td>0.011708</td>\n",
       "      <td>1500</td>\n",
       "      <td>10</td>\n",
       "      <td>1</td>\n",
       "      <td>sqrt</td>\n",
       "      <td>5</td>\n",
       "      <td>lad</td>\n",
       "      <td>{'n_estimators': 1500, 'min_samples_split': 10...</td>\n",
       "      <td>-9.667989</td>\n",
       "      <td>-9.509209</td>\n",
       "      <td>-9.332318</td>\n",
       "      <td>-9.530833</td>\n",
       "      <td>-9.510111</td>\n",
       "      <td>0.119335</td>\n",
       "      <td>10</td>\n",
       "      <td>-6.490116</td>\n",
       "      <td>-6.573482</td>\n",
       "      <td>-6.599360</td>\n",
       "      <td>-6.575160</td>\n",
       "      <td>-6.559530</td>\n",
       "      <td>0.041364</td>\n",
       "    </tr>\n",
       "  </tbody>\n",
       "</table>\n",
       "</div>"
      ],
      "text/plain": [
       "    mean_fit_time  std_fit_time  mean_score_time  std_score_time  \\\n",
       "12      18.448143      0.689131         0.038498        0.006940   \n",
       "3       19.298104      0.279225         0.028751        0.001600   \n",
       "9       11.709762      0.631721         0.022623        0.004892   \n",
       "0        3.097247      0.277267         0.010628        0.002966   \n",
       "7        9.340116      0.653509         0.019251        0.001819   \n",
       "10      88.221680      1.285331         0.125621        0.013437   \n",
       "2       49.430949      1.682498         0.069750        0.016327   \n",
       "16      41.356919      0.859306         0.079248        0.022291   \n",
       "21       5.344136      0.249623         0.029873        0.000958   \n",
       "13      16.514022      0.341150         0.087246        0.011708   \n",
       "\n",
       "   param_n_estimators param_min_samples_split param_min_samples_leaf  \\\n",
       "12                500                       6                      6   \n",
       "3                 500                       6                      8   \n",
       "9                 500                       4                      2   \n",
       "0                 100                       2                      6   \n",
       "7                 500                       4                      6   \n",
       "10               1100                      10                      6   \n",
       "2                 500                       4                      2   \n",
       "16               1500                       4                      6   \n",
       "21                500                       6                      4   \n",
       "13               1500                      10                      1   \n",
       "\n",
       "   param_max_features param_max_depth param_loss  \\\n",
       "12               None               5        lad   \n",
       "3                None               5      huber   \n",
       "9                auto               3      huber   \n",
       "0                auto               5         ls   \n",
       "7                auto               3         ls   \n",
       "10               None              10      huber   \n",
       "2                auto              10      huber   \n",
       "16               None               3         ls   \n",
       "21               log2               5      huber   \n",
       "13               sqrt               5        lad   \n",
       "\n",
       "                                               params  split0_test_score  \\\n",
       "12  {'n_estimators': 500, 'min_samples_split': 6, ...          -9.115582   \n",
       "3   {'n_estimators': 500, 'min_samples_split': 6, ...          -9.166009   \n",
       "9   {'n_estimators': 500, 'min_samples_split': 4, ...          -9.247069   \n",
       "0   {'n_estimators': 100, 'min_samples_split': 2, ...          -9.327100   \n",
       "7   {'n_estimators': 500, 'min_samples_split': 4, ...          -9.398703   \n",
       "10  {'n_estimators': 1100, 'min_samples_split': 10...          -9.425405   \n",
       "2   {'n_estimators': 500, 'min_samples_split': 4, ...          -9.436601   \n",
       "16  {'n_estimators': 1500, 'min_samples_split': 4,...          -9.477962   \n",
       "21  {'n_estimators': 500, 'min_samples_split': 6, ...          -9.621023   \n",
       "13  {'n_estimators': 1500, 'min_samples_split': 10...          -9.667989   \n",
       "\n",
       "    split1_test_score  split2_test_score  split3_test_score  mean_test_score  \\\n",
       "12          -8.990045          -8.858785          -8.972955        -8.984362   \n",
       "3           -9.059157          -8.942831          -9.049787        -9.054464   \n",
       "9           -9.030133          -9.004433          -9.092137        -9.093457   \n",
       "0           -9.207782          -8.927312          -9.195407        -9.164432   \n",
       "7           -9.272112          -9.148244          -9.254474        -9.268404   \n",
       "10          -9.401164          -9.195158          -9.395625        -9.354356   \n",
       "2           -9.533710          -9.250999          -9.354654        -9.394019   \n",
       "16          -9.414625          -9.227109          -9.520833        -9.410143   \n",
       "21          -9.567648          -9.428468          -9.414857        -9.508025   \n",
       "13          -9.509209          -9.332318          -9.530833        -9.510111   \n",
       "\n",
       "    std_test_score  rank_test_score  split0_train_score  split1_train_score  \\\n",
       "12        0.091037                1           -6.961005           -7.176300   \n",
       "3         0.078975                2           -4.560360           -4.331602   \n",
       "9         0.094260                3           -6.975570           -7.154433   \n",
       "0         0.146216                4           -7.477974           -7.356142   \n",
       "7         0.088917                5           -7.125037           -7.143300   \n",
       "10        0.092574                6           -0.392344           -0.429195   \n",
       "2         0.104080                7           -0.193105           -0.207781   \n",
       "16        0.112206                8           -5.052768           -5.013440   \n",
       "21        0.088506                9           -6.470650           -6.508238   \n",
       "13        0.119335               10           -6.490116           -6.573482   \n",
       "\n",
       "    split2_train_score  split3_train_score  mean_train_score  std_train_score  \n",
       "12           -7.036716           -6.779680         -6.988425         0.143139  \n",
       "3            -4.651687           -4.498940         -4.510647         0.116788  \n",
       "9            -7.177282           -7.073013         -7.095075         0.079135  \n",
       "0            -7.377526           -7.526904         -7.434636         0.070382  \n",
       "7            -7.162551           -7.205940         -7.159207         0.030066  \n",
       "10           -0.432028           -0.454672         -0.427060         0.022343  \n",
       "2            -0.226477           -0.157665         -0.196257         0.025226  \n",
       "16           -5.008505           -5.142340         -5.054263         0.053666  \n",
       "21           -6.552119           -6.515560         -6.511642         0.028921  \n",
       "13           -6.599360           -6.575160         -6.559530         0.041364  "
      ]
     },
     "execution_count": 21,
     "metadata": {},
     "output_type": "execute_result"
    }
   ],
   "source": [
    "# Get all of the cv results and sort by the test performance\n",
    "random_results = pd.DataFrame(random_cv.cv_results_).sort_values('mean_test_score', ascending = False)\n",
    "\n",
    "random_results.head(10)"
   ]
  },
  {
   "cell_type": "code",
   "execution_count": 22,
   "metadata": {},
   "outputs": [
    {
     "data": {
      "text/plain": [
       "GradientBoostingRegressor(alpha=0.9, criterion='friedman_mse', init=None,\n",
       "             learning_rate=0.1, loss='lad', max_depth=5, max_features=None,\n",
       "             max_leaf_nodes=None, min_impurity_decrease=0.0,\n",
       "             min_impurity_split=None, min_samples_leaf=6,\n",
       "             min_samples_split=6, min_weight_fraction_leaf=0.0,\n",
       "             n_estimators=500, presort='auto', random_state=42,\n",
       "             subsample=1.0, verbose=0, warm_start=False)"
      ]
     },
     "execution_count": 22,
     "metadata": {},
     "output_type": "execute_result"
    }
   ],
   "source": [
    "random_cv.best_estimator_"
   ]
  },
  {
   "cell_type": "markdown",
   "metadata": {},
   "source": [
    "The best gradient boosted model has the following hyperparameters:\n",
    "\n",
    "    loss = lad\n",
    "    n_estimators = 500\n",
    "    max_depth = 5\n",
    "    min_samples_leaf = 6\n",
    "    min_samples_split = 6\n",
    "    max_features = None (This means that max_features = n_features according to the docs)\n",
    "    \n",
    "Using random search is a good method to narrow down the possible hyperparameters to try. Initially, we had no idea which combination would work the best, but this at least narrows down the range of options.\n",
    "\n",
    "We could use the random search results to inform a grid search by creating a grid with hyperparameters close to those that worked best during the randomized search. However, rather than evaluating all of these settings again, I will focus on a single one, the number of trees in the forest (n_estimators). By varying only one hyperparameter, we can directly observe how it affects performance. In the case of the number of trees, we would expect to see a significant affect on the amount of under vs overfitting.\n",
    "\n",
    "Here we will use grid search with a grid that only has the n_estimators hyperparameter. We will evaluate a range of trees then plot the training and testing performance to get an idea of what increasing the number of trees does for our model. We will fix the other hyperparameters at the best values returned from random search to isolate the number of trees effect."
   ]
  },
  {
   "cell_type": "code",
   "execution_count": 23,
   "metadata": {},
   "outputs": [],
   "source": [
    "# Create a range of trees to evaluate\n",
    "trees_grid = {'n_estimators': [100, 150, 200, 250, 300, 350, 400, 450, 500, 550, 600, 650, 700, 750, 800]}\n",
    "\n",
    "model = GradientBoostingRegressor(loss = 'lad', max_depth = 5,\n",
    "                                  min_samples_leaf = 6,\n",
    "                                  min_samples_split = 6,\n",
    "                                  max_features = None,\n",
    "                                  random_state = 42)\n",
    "\n",
    "# Grid Search Object using the trees range and the random forest model\n",
    "grid_search = GridSearchCV(estimator = model, param_grid=trees_grid, cv = 4, \n",
    "                           scoring = 'neg_mean_absolute_error', verbose = 1,\n",
    "                           n_jobs = -1, return_train_score = True)"
   ]
  },
  {
   "cell_type": "code",
   "execution_count": 24,
   "metadata": {},
   "outputs": [
    {
     "name": "stdout",
     "output_type": "stream",
     "text": [
      "Fitting 4 folds for each of 15 candidates, totalling 60 fits\n"
     ]
    },
    {
     "name": "stderr",
     "output_type": "stream",
     "text": [
      "[Parallel(n_jobs=-1)]: Done  42 tasks      | elapsed:  2.6min\n",
      "[Parallel(n_jobs=-1)]: Done  60 out of  60 | elapsed:  4.6min finished\n"
     ]
    },
    {
     "data": {
      "text/plain": [
       "GridSearchCV(cv=4, error_score='raise',\n",
       "       estimator=GradientBoostingRegressor(alpha=0.9, criterion='friedman_mse', init=None,\n",
       "             learning_rate=0.1, loss='lad', max_depth=5, max_features=None,\n",
       "             max_leaf_nodes=None, min_impurity_decrease=0.0,\n",
       "             min_impurity_split=None, min_samples_leaf=6,\n",
       "             min_samples_split=6, min_weight_fraction_leaf=0.0,\n",
       "             n_estimators=100, presort='auto', random_state=42,\n",
       "             subsample=1.0, verbose=0, warm_start=False),\n",
       "       fit_params=None, iid=True, n_jobs=-1,\n",
       "       param_grid={'n_estimators': [100, 150, 200, 250, 300, 350, 400, 450, 500, 550, 600, 650, 700, 750, 800]},\n",
       "       pre_dispatch='2*n_jobs', refit=True, return_train_score=True,\n",
       "       scoring='neg_mean_absolute_error', verbose=1)"
      ]
     },
     "execution_count": 24,
     "metadata": {},
     "output_type": "execute_result"
    }
   ],
   "source": [
    "\n",
    "# Fit the grid search\n",
    "grid_search.fit(X, y)"
   ]
  },
  {
   "cell_type": "code",
   "execution_count": 25,
   "metadata": {},
   "outputs": [
    {
     "data": {
      "image/png": "[encoded data removed]",
      "text/plain": [
       "<Figure size 576x576 with 1 Axes>"
      ]
     },
     "metadata": {},
     "output_type": "display_data"
    }
   ],
   "source": [
    "# Get the results into a dataframe\n",
    "results = pd.DataFrame(grid_search.cv_results_)\n",
    "\n",
    "# Plot the training and testing error vs number of trees\n",
    "figsize(8, 8)\n",
    "plt.style.use('fivethirtyeight')\n",
    "plt.plot(results['param_n_estimators'], -1 * results['mean_test_score'], label = 'Testing Error')\n",
    "plt.plot(results['param_n_estimators'], -1 * results['mean_train_score'], label = 'Training Error')\n",
    "plt.xlabel('Number of Trees'); plt.ylabel('Mean Abosolute Error'); plt.legend();\n",
    "plt.title('Performance vs Number of Trees');"
   ]
  },
  {
   "cell_type": "code",
   "execution_count": 26,
   "metadata": {},
   "outputs": [
    {
     "data": {
      "text/html": [
       "<div>\n",
       "<style scoped>\n",
       "    .dataframe tbody tr th:only-of-type {\n",
       "        vertical-align: middle;\n",
       "    }\n",
       "\n",
       "    .dataframe tbody tr th {\n",
       "        vertical-align: top;\n",
       "    }\n",
       "\n",
       "    .dataframe thead th {\n",
       "        text-align: right;\n",
       "    }\n",
       "</style>\n",
       "<table border=\"1\" class=\"dataframe\">\n",
       "  <thead>\n",
       "    <tr style=\"text-align: right;\">\n",
       "      <th></th>\n",
       "      <th>mean_fit_time</th>\n",
       "      <th>std_fit_time</th>\n",
       "      <th>mean_score_time</th>\n",
       "      <th>std_score_time</th>\n",
       "      <th>param_n_estimators</th>\n",
       "      <th>params</th>\n",
       "      <th>split0_test_score</th>\n",
       "      <th>split1_test_score</th>\n",
       "      <th>split2_test_score</th>\n",
       "      <th>split3_test_score</th>\n",
       "      <th>mean_test_score</th>\n",
       "      <th>std_test_score</th>\n",
       "      <th>rank_test_score</th>\n",
       "      <th>split0_train_score</th>\n",
       "      <th>split1_train_score</th>\n",
       "      <th>split2_train_score</th>\n",
       "      <th>split3_train_score</th>\n",
       "      <th>mean_train_score</th>\n",
       "      <th>std_train_score</th>\n",
       "    </tr>\n",
       "  </thead>\n",
       "  <tbody>\n",
       "    <tr>\n",
       "      <th>14</th>\n",
       "      <td>31.270428</td>\n",
       "      <td>1.337783</td>\n",
       "      <td>0.039750</td>\n",
       "      <td>0.008295</td>\n",
       "      <td>800</td>\n",
       "      <td>{'n_estimators': 800}</td>\n",
       "      <td>-9.111052</td>\n",
       "      <td>-8.944589</td>\n",
       "      <td>-8.802884</td>\n",
       "      <td>-8.928721</td>\n",
       "      <td>-8.946836</td>\n",
       "      <td>0.109572</td>\n",
       "      <td>1</td>\n",
       "      <td>-6.718732</td>\n",
       "      <td>-6.945922</td>\n",
       "      <td>-6.710577</td>\n",
       "      <td>-6.470791</td>\n",
       "      <td>-6.711505</td>\n",
       "      <td>0.168038</td>\n",
       "    </tr>\n",
       "    <tr>\n",
       "      <th>13</th>\n",
       "      <td>32.698431</td>\n",
       "      <td>0.833552</td>\n",
       "      <td>0.056874</td>\n",
       "      <td>0.011529</td>\n",
       "      <td>750</td>\n",
       "      <td>{'n_estimators': 750}</td>\n",
       "      <td>-9.104153</td>\n",
       "      <td>-8.955352</td>\n",
       "      <td>-8.809276</td>\n",
       "      <td>-8.936094</td>\n",
       "      <td>-8.951243</td>\n",
       "      <td>0.104622</td>\n",
       "      <td>2</td>\n",
       "      <td>-6.741527</td>\n",
       "      <td>-6.985577</td>\n",
       "      <td>-6.753483</td>\n",
       "      <td>-6.525482</td>\n",
       "      <td>-6.751517</td>\n",
       "      <td>0.162773</td>\n",
       "    </tr>\n",
       "    <tr>\n",
       "      <th>12</th>\n",
       "      <td>28.425926</td>\n",
       "      <td>0.491779</td>\n",
       "      <td>0.043378</td>\n",
       "      <td>0.001950</td>\n",
       "      <td>700</td>\n",
       "      <td>{'n_estimators': 700}</td>\n",
       "      <td>-9.106862</td>\n",
       "      <td>-8.954815</td>\n",
       "      <td>-8.813514</td>\n",
       "      <td>-8.940537</td>\n",
       "      <td>-8.953955</td>\n",
       "      <td>0.104026</td>\n",
       "      <td>3</td>\n",
       "      <td>-6.776529</td>\n",
       "      <td>-7.027255</td>\n",
       "      <td>-6.790971</td>\n",
       "      <td>-6.572066</td>\n",
       "      <td>-6.791705</td>\n",
       "      <td>0.161211</td>\n",
       "    </tr>\n",
       "    <tr>\n",
       "      <th>11</th>\n",
       "      <td>26.177548</td>\n",
       "      <td>0.562681</td>\n",
       "      <td>0.045368</td>\n",
       "      <td>0.009788</td>\n",
       "      <td>650</td>\n",
       "      <td>{'n_estimators': 650}</td>\n",
       "      <td>-9.110216</td>\n",
       "      <td>-8.960002</td>\n",
       "      <td>-8.812617</td>\n",
       "      <td>-8.951290</td>\n",
       "      <td>-8.958554</td>\n",
       "      <td>0.105303</td>\n",
       "      <td>4</td>\n",
       "      <td>-6.824222</td>\n",
       "      <td>-7.045609</td>\n",
       "      <td>-6.850231</td>\n",
       "      <td>-6.615254</td>\n",
       "      <td>-6.833829</td>\n",
       "      <td>0.152469</td>\n",
       "    </tr>\n",
       "    <tr>\n",
       "      <th>10</th>\n",
       "      <td>23.285041</td>\n",
       "      <td>0.419306</td>\n",
       "      <td>0.034375</td>\n",
       "      <td>0.006066</td>\n",
       "      <td>600</td>\n",
       "      <td>{'n_estimators': 600}</td>\n",
       "      <td>-9.110442</td>\n",
       "      <td>-8.966307</td>\n",
       "      <td>-8.838258</td>\n",
       "      <td>-8.959010</td>\n",
       "      <td>-8.968526</td>\n",
       "      <td>0.096445</td>\n",
       "      <td>5</td>\n",
       "      <td>-6.859964</td>\n",
       "      <td>-7.083881</td>\n",
       "      <td>-6.936535</td>\n",
       "      <td>-6.651308</td>\n",
       "      <td>-6.882922</td>\n",
       "      <td>0.156070</td>\n",
       "    </tr>\n",
       "  </tbody>\n",
       "</table>\n",
       "</div>"
      ],
      "text/plain": [
       "    mean_fit_time  std_fit_time  mean_score_time  std_score_time  \\\n",
       "14      31.270428      1.337783         0.039750        0.008295   \n",
       "13      32.698431      0.833552         0.056874        0.011529   \n",
       "12      28.425926      0.491779         0.043378        0.001950   \n",
       "11      26.177548      0.562681         0.045368        0.009788   \n",
       "10      23.285041      0.419306         0.034375        0.006066   \n",
       "\n",
       "   param_n_estimators                 params  split0_test_score  \\\n",
       "14                800  {'n_estimators': 800}          -9.111052   \n",
       "13                750  {'n_estimators': 750}          -9.104153   \n",
       "12                700  {'n_estimators': 700}          -9.106862   \n",
       "11                650  {'n_estimators': 650}          -9.110216   \n",
       "10                600  {'n_estimators': 600}          -9.110442   \n",
       "\n",
       "    split1_test_score  split2_test_score  split3_test_score  mean_test_score  \\\n",
       "14          -8.944589          -8.802884          -8.928721        -8.946836   \n",
       "13          -8.955352          -8.809276          -8.936094        -8.951243   \n",
       "12          -8.954815          -8.813514          -8.940537        -8.953955   \n",
       "11          -8.960002          -8.812617          -8.951290        -8.958554   \n",
       "10          -8.966307          -8.838258          -8.959010        -8.968526   \n",
       "\n",
       "    std_test_score  rank_test_score  split0_train_score  split1_train_score  \\\n",
       "14        0.109572                1           -6.718732           -6.945922   \n",
       "13        0.104622                2           -6.741527           -6.985577   \n",
       "12        0.104026                3           -6.776529           -7.027255   \n",
       "11        0.105303                4           -6.824222           -7.045609   \n",
       "10        0.096445                5           -6.859964           -7.083881   \n",
       "\n",
       "    split2_train_score  split3_train_score  mean_train_score  std_train_score  \n",
       "14           -6.710577           -6.470791         -6.711505         0.168038  \n",
       "13           -6.753483           -6.525482         -6.751517         0.162773  \n",
       "12           -6.790971           -6.572066         -6.791705         0.161211  \n",
       "11           -6.850231           -6.615254         -6.833829         0.152469  \n",
       "10           -6.936535           -6.651308         -6.882922         0.156070  "
      ]
     },
     "execution_count": 26,
     "metadata": {},
     "output_type": "execute_result"
    }
   ],
   "source": [
    "results.sort_values('mean_test_score', ascending = False).head(5)"
   ]
  },
  {
   "cell_type": "markdown",
   "metadata": {},
   "source": [
    "From this plot, it's pretty clear that our model is overfitting! The training error is significantly lower than the testing error, which shows that the model is learning the training data very well but then is not able to generalize to the test data as well. Moveover, as the number of trees increases, the amount of overfitting increases. Both the test and training error decrease as the number of trees increase but the training error decreases more rapidly.\n",
    "\n",
    "There will always be a difference between the training error and testing error (the training error is always lower) but if there is a significant difference, we want to try and reduce overfitting, either by getting more training data or reducing the complexity of the model through hyperparameter tuning or regularization. For the gradient boosting regressor, some options include reducing the number of trees, reducing the max depth of each tree, and increasing the minimum number of samples in a leaf node. For anyone who wants to go further into the gradient boosting regressor, here is a great article. For now, we will use the model with the best performance and accept that it may be overfitting to the training set.\n",
    "\n",
    "Based on the cross validation results, the best model using 800 trees and achieves a cross validation error under 9. This indicates that the average cross-validation estimate of the Energy Star Score is within 9 points of the true answer!"
   ]
  },
  {
   "cell_type": "markdown",
   "metadata": {},
   "source": [
    "## Evaluate Final Model on the Test Set\n",
    "We will use the best model from hyperparameter tuning to make predictions on the testing set. Remember, our model has never seen the test set before, so this performance should be a good indicator of how the model would perform if deployed in the real world.\n",
    "\n",
    "For comparison, we can also look at the performance of the default model. The code below creates the final model, trains it (with timing), and evaluates on the test set."
   ]
  },
  {
   "cell_type": "code",
   "execution_count": 27,
   "metadata": {},
   "outputs": [
    {
     "data": {
      "text/plain": [
       "GradientBoostingRegressor(alpha=0.9, criterion='friedman_mse', init=None,\n",
       "             learning_rate=0.1, loss='lad', max_depth=5, max_features=None,\n",
       "             max_leaf_nodes=None, min_impurity_decrease=0.0,\n",
       "             min_impurity_split=None, min_samples_leaf=6,\n",
       "             min_samples_split=6, min_weight_fraction_leaf=0.0,\n",
       "             n_estimators=800, presort='auto', random_state=42,\n",
       "             subsample=1.0, verbose=0, warm_start=False)"
      ]
     },
     "execution_count": 27,
     "metadata": {},
     "output_type": "execute_result"
    }
   ],
   "source": [
    "# Default model\n",
    "default_model = GradientBoostingRegressor(random_state = 42)\n",
    "\n",
    "# Select the best model\n",
    "final_model = grid_search.best_estimator_\n",
    "\n",
    "final_model"
   ]
  },
  {
   "cell_type": "code",
   "execution_count": 28,
   "metadata": {},
   "outputs": [
    {
     "name": "stdout",
     "output_type": "stream",
     "text": [
      "796 ms ± 46.3 ms per loop (mean ± std. dev. of 5 runs, 1 loop each)\n"
     ]
    }
   ],
   "source": [
    "%%timeit -n 1 -r 5\n",
    "default_model.fit(X, y)"
   ]
  },
  {
   "cell_type": "code",
   "execution_count": 29,
   "metadata": {},
   "outputs": [
    {
     "name": "stdout",
     "output_type": "stream",
     "text": [
      "12.2 s ± 1.4 s per loop (mean ± std. dev. of 5 runs, 1 loop each)\n"
     ]
    }
   ],
   "source": [
    "%%timeit -n 1 -r 5\n",
    "final_model.fit(X, y)"
   ]
  },
  {
   "cell_type": "code",
   "execution_count": 30,
   "metadata": {},
   "outputs": [
    {
     "name": "stdout",
     "output_type": "stream",
     "text": [
      "Default model performance on the test set: MAE = 9.8380.\n",
      "Final model performance on the test set:   MAE = 8.9160.\n"
     ]
    }
   ],
   "source": [
    "default_pred = default_model.predict(X_test)\n",
    "final_pred = final_model.predict(X_test)\n",
    "\n",
    "print('Default model performance on the test set: MAE = %0.4f.' % mae(y_test, default_pred))\n",
    "print('Final model performance on the test set:   MAE = %0.4f.' % mae(y_test, final_pred))"
   ]
  },
  {
   "cell_type": "markdown",
   "metadata": {},
   "source": [
    "__The final model does out-perform the baseline model by about 10%, but at the cost of significantly increased running time (it's about 12 times slower on my machine). Machine learning is often a field of tradeoffs: bias vs variance, acccuracy vs interpretability, accuracy vs running time, and the final decision of which model to use depends on the situation. Here, the increase in run time is not an impediment, because while the relative difference is large, the absolute magnitude of the training time is not significant. In a different situation, the balance might not be the same so we would need to consider what we are optimizing for and the limitations we have to work with.__\n",
    "\n",
    "To get a sense of the predictions, we can plot the distribution of true values on the test set and the predicted values on the test set."
   ]
  },
  {
   "cell_type": "code",
   "execution_count": 31,
   "metadata": {},
   "outputs": [
    {
     "data": {
      "image/png": "[encoded data removed]",
      "text/plain": [
       "<Figure size 576x576 with 1 Axes>"
      ]
     },
     "metadata": {},
     "output_type": "display_data"
    }
   ],
   "source": [
    "figsize(8, 8)\n",
    "\n",
    "# Density plot of the final predictions and the test values\n",
    "sns.kdeplot(final_pred, label = 'Predictions')\n",
    "sns.kdeplot(y_test, label = 'Values')\n",
    "\n",
    "# Label the plot\n",
    "plt.xlabel('Energy Star Score'); plt.ylabel('Density');\n",
    "plt.title('Test Values and Predictions');"
   ]
  },
  {
   "cell_type": "markdown",
   "metadata": {},
   "source": [
    "The distribution looks to be nearly the same although the density of the predicted values is closer to the median of the test values rather than to the actual peak at 100. It appears the model might be less accurate at predicting the extreme values and instead predicts values closer to the median.\n",
    "\n",
    "Another diagnostic plot is a histogram of the residuals. Ideally, we would hope that the residuals are normally distributed, meaning that the model is wrong the same amount in both directions (high and low)."
   ]
  },
  {
   "cell_type": "code",
   "execution_count": 32,
   "metadata": {},
   "outputs": [
    {
     "data": {
      "image/png": "[encoded data removed]",
      "text/plain": [
       "<Figure size 576x576 with 1 Axes>"
      ]
     },
     "metadata": {},
     "output_type": "display_data"
    }
   ],
   "source": [
    "figsize = (6, 6)\n",
    "\n",
    "# Calculate the residuals \n",
    "residuals = final_pred - y_test\n",
    "\n",
    "# Plot the residuals in a histogram\n",
    "plt.hist(residuals, color = 'red', bins = 20,\n",
    "         edgecolor = 'black')\n",
    "plt.xlabel('Error'); plt.ylabel('Count')\n",
    "plt.title('Distribution of Residuals');"
   ]
  },
  {
   "cell_type": "markdown",
   "metadata": {},
   "source": [
    "The residuals are close to normally disributed, with a few noticeable outliers on the low end. These indicate errors where the model estimate was far below that of the true value."
   ]
  },
  {
   "cell_type": "markdown",
   "metadata": {},
   "source": [
    "# Conclusions\n",
    "In this notebook, we covered crucial concepts in the machine learning pipeline:\n",
    "\n",
    "    Imputing missing values\n",
    "\n",
    "    Evaluating and comparing several machine learning methods\n",
    "\n",
    "    Hyperparameter tuning a machine learning model using random search and cross validation\n",
    "\n",
    "    Evaluating the best model on the testing set\n",
    "\n",
    "The results showed us that machine learning is applicable to our problem, with the final model able to the predict the Energy Star Score of a building to within 9.1 points. We also saw that hyperparamter tuning was able to improve the performance of the model although at a considerable cost in terms of time invested. This is a good reminder that proper feature engineering and gathering more data (if possible!) has a much larger pay-off than fine-tuning the model. We also observed the trade-off in run-time versus accuracy, which is one of many considerations we have to take into account when designing machine learning models.\n",
    "\n",
    "We know our model is accurate, but do we know why it makes the predictions it does? The next step in the machine learning process is crucial: trying to understand how the model makes predictions. Achieveing high accuracy is great, but it would also be helpful if we could figure out why the model is able to predict accurately so we could use this information to better understand the problem. For example, what features does the model rely on to infer the Energy Star Score? It is possible to use this model for feature selection and implement a simpler model that is more interpretable?\n",
    "\n",
    "In the final notebook, we will try to answer these questions and draw final conclusions from the project!"
   ]
  },
  {
   "cell_type": "code",
   "execution_count": null,
   "metadata": {},
   "outputs": [],
   "source": []
  }
 ],
 "metadata": {
  "kernelspec": {
   "display_name": "Python 3",
   "language": "python",
   "name": "python3"
  },
  "language_info": {
   "codemirror_mode": {
    "name": "ipython",
    "version": 3
   },
   "file_extension": ".py",
   "mimetype": "text/x-python",
   "name": "python",
   "nbconvert_exporter": "python",
   "pygments_lexer": "ipython3",
   "version": "3.6.5"
  }
 },
 "nbformat": 4,
 "nbformat_minor": 2
}
