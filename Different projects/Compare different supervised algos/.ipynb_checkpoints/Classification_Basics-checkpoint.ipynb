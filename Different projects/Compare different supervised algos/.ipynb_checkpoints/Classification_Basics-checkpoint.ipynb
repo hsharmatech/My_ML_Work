{
 "cells": [
  {
   "cell_type": "markdown",
   "metadata": {},
   "source": [
    "# Introduction"
   ]
  },
  {
   "cell_type": "markdown",
   "metadata": {},
   "source": [
    "In this Notebook I will walk you through how supervised classification works. You will learn everything you need, to build your own binary or multiclass classification systems. I got everything I cover in this notebook from the book \"Hands-On Machine Learning with Scikit_learn & Tensorflow\" from Aurelien Geron. I used the famous mnist dataset, which contains 70,000 images of handwritten digits. \n",
    "\n",
    "If you just want to have a quick look at what I did and what I've learned throughout writing this notebook, you can just read the [summary](#Summary) at the very end.  \n",
    "\n",
    "\n",
    "\n",
    "## Table of Contents:\n",
    "- [Import Libraries](#import)\n",
    "\n",
    "- [Data Exploration and Preparation](#explo)\n",
    "\n",
    "- [Train SGD Classifier](#sgd)\n",
    "\n",
    "- [Evaluate Performance](#evaluate)\n",
    "\n",
    "- [Confusion Matrix](#confusion)\n",
    "\n",
    "- [Precision & Recall](#precisionr)\n",
    "\n",
    "- [Precision/Recall Tradeoff](#precision)\n",
    "\n",
    "- [ROC Curve and ROC AUC Score](#roc)\n",
    "\n",
    "- [Multiclass Classification](#multiclass)\n",
    "\n",
    "- [Error Analysis](#Error2)\n",
    "\n",
    "- [Multilabel Classification](#Multilabel)\n",
    "\n",
    "- [Summary](#Summary)\n"
   ]
  },
  {
   "cell_type": "markdown",
   "metadata": {},
   "source": [
    "<a id='import'></a>"
   ]
  },
  {
   "cell_type": "markdown",
   "metadata": {},
   "source": [
    "# Import Libraries"
   ]
  },
  {
   "cell_type": "code",
   "execution_count": 1,
   "metadata": {},
   "outputs": [],
   "source": [
    "# Common imports\n",
    "import numpy as np\n",
    "import os\n",
    "\n",
    "# random seed to make output stable across runs\n",
    "np.random.seed(42)\n",
    "\n",
    "# data visualization\n",
    "%matplotlib inline\n",
    "import matplotlib\n",
    "import matplotlib.pyplot as plt\n",
    "plt.rcParams['axes.labelsize'] = 14\n",
    "plt.rcParams['xtick.labelsize'] = 12\n",
    "plt.rcParams['ytick.labelsize'] = 12"
   ]
  },
  {
   "cell_type": "markdown",
   "metadata": {},
   "source": [
    "<a id='explo'></a>"
   ]
  },
  {
   "cell_type": "markdown",
   "metadata": {},
   "source": [
    "#  Data Exploration and Preparation"
   ]
  },
  {
   "cell_type": "code",
   "execution_count": 2,
   "metadata": {},
   "outputs": [
    {
     "data": {
      "text/plain": [
       "{'DESCR': 'mldata.org dataset: mnist-original',\n",
       " 'COL_NAMES': ['label', 'data'],\n",
       " 'target': array([0., 0., 0., ..., 9., 9., 9.]),\n",
       " 'data': array([[0, 0, 0, ..., 0, 0, 0],\n",
       "        [0, 0, 0, ..., 0, 0, 0],\n",
       "        [0, 0, 0, ..., 0, 0, 0],\n",
       "        ...,\n",
       "        [0, 0, 0, ..., 0, 0, 0],\n",
       "        [0, 0, 0, ..., 0, 0, 0],\n",
       "        [0, 0, 0, ..., 0, 0, 0]], dtype=uint8)}"
      ]
     },
     "execution_count": 2,
     "metadata": {},
     "output_type": "execute_result"
    }
   ],
   "source": [
    "# fetch dtatset from sklearn\n",
    "from sklearn.datasets import fetch_mldata\n",
    "mnist = fetch_mldata('MNIST original')\n",
    "mnist"
   ]
  },
  {
   "cell_type": "code",
   "execution_count": 3,
   "metadata": {},
   "outputs": [
    {
     "data": {
      "text/plain": [
       "(70000, 784)"
      ]
     },
     "execution_count": 3,
     "metadata": {},
     "output_type": "execute_result"
    }
   ],
   "source": [
    "X_label, y_label = mnist[\"data\"], mnist[\"target\"]\n",
    "X_label.shape"
   ]
  },
  {
   "cell_type": "markdown",
   "metadata": {},
   "source": [
    "The whole dataset contains 70,000 images and every Image has 784 features, because every image is 28x28 pixels big. Each image represents the intensity of one pixel from 0 (white) to 255 (black). \n",
    "\n",
    "The dataset is splitted into a training set of 60,000 examples, and a test set of 10,000 examples. The digits have been size-normalized and centered in a fixed-size image. \n",
    "\n",
    "Let's look at one image:"
   ]
  },
  {
   "cell_type": "code",
   "execution_count": 4,
   "metadata": {},
   "outputs": [
    {
     "data": {
      "image/png": "[encoded data removed]",
      "text/plain": [
       "<matplotlib.figure.Figure at 0x115ebc5c0>"
      ]
     },
     "metadata": {},
     "output_type": "display_data"
    }
   ],
   "source": [
    "%matplotlib inline\n",
    "import matplotlib\n",
    "import matplotlib.pyplot as plt\n",
    "\n",
    "digit = X_label[66043]\n",
    "digit_image = digit.reshape(28, 28)\n",
    "plt.imshow(digit_image, cmap = matplotlib.cm.binary,\n",
    "           interpolation=\"nearest\")\n",
    "plt.axis(\"off\")\n",
    "plt.show()"
   ]
  },
  {
   "cell_type": "code",
   "execution_count": 5,
   "metadata": {},
   "outputs": [
    {
     "data": {
      "text/plain": [
       "6.0"
      ]
     },
     "execution_count": 5,
     "metadata": {},
     "output_type": "execute_result"
    }
   ],
   "source": [
    "y_label[66043] # print the label of the image above"
   ]
  },
  {
   "cell_type": "code",
   "execution_count": 6,
   "metadata": {
    "collapsed": true
   },
   "outputs": [],
   "source": [
    "# separating feature and labels for both train and test set\n",
    "X_train, X_test, y_train, y_test = X_label[:60000], X_label[60000:], y_label[:60000], y_label[60000:]"
   ]
  },
  {
   "cell_type": "code",
   "execution_count": 7,
   "metadata": {
    "collapsed": true
   },
   "outputs": [],
   "source": [
    "# shuffle the training, so that there aren't many similar digist in a row \n",
    "shuffle_the_indexes = np.random.permutation(60000)\n",
    "X_train, y_train = X_train[shuffle_the_indexes], y_train[shuffle_the_indexes]"
   ]
  },
  {
   "cell_type": "markdown",
   "metadata": {},
   "source": [
    "<a id='sgd'></a>"
   ]
  },
  {
   "cell_type": "markdown",
   "metadata": {},
   "source": [
    "# Train SGD Classifier"
   ]
  },
  {
   "cell_type": "markdown",
   "metadata": {},
   "source": [
    "To understand the overall concept of classification better, we will start by developing and training a classiffier that classifies one digit - for example, the number 6. This classifier will be capable of distinguishing between two classes, 6 and not 6. Afterwords we will build one that classifies every digit out of the dataset."
   ]
  },
  {
   "cell_type": "code",
   "execution_count": 8,
   "metadata": {
    "collapsed": true
   },
   "outputs": [],
   "source": [
    "# creating target vectors\n",
    "y_train_6 = (y_train == 6)\n",
    "y_test_6 = (y_test == 6)"
   ]
  },
  {
   "cell_type": "markdown",
   "metadata": {},
   "source": [
    "As classifier we use sklearns stochastic gradient descent (SGD), which is capable of handling large dataset efficiently. It deals with one instance at a time. "
   ]
  },
  {
   "cell_type": "code",
   "execution_count": 9,
   "metadata": {},
   "outputs": [
    {
     "data": {
      "text/plain": [
       "SGDClassifier(alpha=0.0001, average=False, class_weight=None, epsilon=0.1,\n",
       "       eta0=0.0, fit_intercept=True, l1_ratio=0.15,\n",
       "       learning_rate='optimal', loss='hinge', max_iter=5, n_iter=None,\n",
       "       n_jobs=1, penalty='l2', power_t=0.5, random_state=42, shuffle=True,\n",
       "       tol=None, verbose=0, warm_start=False)"
      ]
     },
     "execution_count": 9,
     "metadata": {},
     "output_type": "execute_result"
    }
   ],
   "source": [
    "# creat SGDClassifier & train it on the training set\n",
    "from sklearn.linear_model import SGDClassifier\n",
    "sgd_clf = SGDClassifier(random_state=42, max_iter=5, tol=None)\n",
    "sgd_clf.fit(X_train, y_train_6)"
   ]
  },
  {
   "cell_type": "code",
   "execution_count": 10,
   "metadata": {},
   "outputs": [
    {
     "name": "stdout",
     "output_type": "stream",
     "text": [
      "Prediction: True\n"
     ]
    }
   ],
   "source": [
    "# detect images of the number 6, using the \"digit\" variable we used above, that contains a 6.\n",
    "prediction = sgd_clf.predict([digit])\n",
    "print(\"Prediction:\", prediction[0])"
   ]
  },
  {
   "cell_type": "markdown",
   "metadata": {},
   "source": [
    "The classifier correctly classified the number 6."
   ]
  },
  {
   "cell_type": "markdown",
   "metadata": {},
   "source": [
    "<a id='evaluate'></a>"
   ]
  },
  {
   "cell_type": "markdown",
   "metadata": {},
   "source": [
    "# Evaluate Performance"
   ]
  },
  {
   "cell_type": "markdown",
   "metadata": {},
   "source": [
    "Since evaluating a classifier is often harder that evaluating a regressor, we will spend a lot of time at this part of the project. Now we will use cross-validation to evaluate our current binary classifier (SGD). \n",
    "\n",
    "K-fold cross validation splits the training set into K-folds. Afterwards it makes predictions and evuluates them on each fold using a model trained on the remaining fold. \n",
    "\n",
    "Sometimes, you want more controll over the cross validation process, than with the pre-implemented one, that sklearn provides. Therefore I will implement cross-validation by myself, just to gain some more experience.\n",
    "\n",
    "I will use StratifiedKFold, which performs stratified sampling to produce several folds that contain a representative ratio of each class. The cross validator creates a clone of the classifier and then trains that clone on the training folds and makes predictions on the test fold afterwards. In the end, it counts the correct predictions and gives us the performance ratio.\n",
    "\n",
    "We will evaluate our SGDClassifier model using K-fold cross validation, with three folds."
   ]
  },
  {
   "cell_type": "code",
   "execution_count": 11,
   "metadata": {},
   "outputs": [
    {
     "name": "stdout",
     "output_type": "stream",
     "text": [
      "Accuracy: 0.982300884956\n",
      "Accuracy: 0.98155\n",
      "Accuracy: 0.981349067453\n"
     ]
    }
   ],
   "source": [
    "from sklearn.model_selection import StratifiedKFold \n",
    "from sklearn.base import clone\n",
    "\n",
    "skfolds = StratifiedKFold(n_splits=3, random_state=42)\n",
    "\n",
    "for train_index, test_index in skfolds.split(X_train, y_train_6):\n",
    "    clone_clf = clone(sgd_clf)\n",
    "    X_train_folds = X_train[train_index]\n",
    "    y_train_folds = (y_train_6[train_index])\n",
    "    X_test_fold = X_train[test_index]\n",
    "    y_test_fold = (y_train_6[test_index])\n",
    "\n",
    "    clone_clf.fit(X_train_folds, y_train_folds)\n",
    "    y_pred = clone_clf.predict(X_test_fold)\n",
    "    n_correct = sum(y_pred == y_test_fold)\n",
    "    print(\"Accuracy:\",n_correct / len(y_pred))"
   ]
  },
  {
   "cell_type": "markdown",
   "metadata": {},
   "source": [
    "We got above 97 % accuracy on every fold but before we get too amazed, we will create a very stupid classifier, that just classifies every image as not a 6. "
   ]
  },
  {
   "cell_type": "code",
   "execution_count": 12,
   "metadata": {
    "collapsed": true
   },
   "outputs": [],
   "source": [
    "from sklearn.base import BaseEstimator\n",
    "class not_a_6(BaseEstimator):\n",
    "    def fit(self, X, y=None):\n",
    "        pass\n",
    "    def predict(self, X):\n",
    "        return np.zeros((len(X), 1), dtype=bool)"
   ]
  },
  {
   "cell_type": "code",
   "execution_count": 13,
   "metadata": {},
   "outputs": [
    {
     "name": "stdout",
     "output_type": "stream",
     "text": [
      "Accuracy: [ 0.8993   0.90115  0.90365]\n"
     ]
    }
   ],
   "source": [
    "never_6_clf = not_a_6()\n",
    "from sklearn.model_selection import cross_val_score # out of simplicits, we just use the build in cross validator\n",
    "accuracy = cross_val_score(never_6_clf, X_train, y_train_6, cv=3, scoring=\"accuracy\")\n",
    "print(\"Accuracy:\", accuracy)"
   ]
  },
  {
   "cell_type": "markdown",
   "metadata": {},
   "source": [
    "Also over 90% accuracy on every fold. This is because just around 10% of the images are sixes and if you therefore always guess an image is not a 6, you will be right 90% of the time.\n",
    "\n",
    "This is the reason why accuracy is the wrong measure for classiffiacation problems in machine learning. This is especially true, when some classes are much more frequent than others (e.g skewed dataset).\n",
    "\n",
    "A much better measure of how good our model does, is the so called confusion matrix, which we will cover below."
   ]
  },
  {
   "cell_type": "markdown",
   "metadata": {},
   "source": [
    "<a id='confusion'></a>"
   ]
  },
  {
   "cell_type": "markdown",
   "metadata": {},
   "source": [
    "# Confusion Matrix"
   ]
  },
  {
   "cell_type": "markdown",
   "metadata": {},
   "source": [
    "A confusion matrix simply counts how often instances of class A are classified as class B. If you would want to know how often the classifier confused for example a 6 with a 4, you would look at the 6th row and the 4th column of the confusion matrix. \n",
    "\n",
    "To use the confusion matrix, we will first need predictions that can be compared to the actual target. We will use the cross_vall_predict() function, which returns the clean predictions made on each test set, instead of the evaluated scores that the cross_val_score() function returns. Clean means the prediction is made by a model, that never saw the data before. "
   ]
  },
  {
   "cell_type": "code",
   "execution_count": 14,
   "metadata": {
    "collapsed": true
   },
   "outputs": [],
   "source": [
    "# cross_val_predict()\n",
    "from sklearn.model_selection import cross_val_predict\n",
    "predictions = cross_val_predict(sgd_clf, X_train, y_train_6, cv=3)"
   ]
  },
  {
   "cell_type": "code",
   "execution_count": 15,
   "metadata": {},
   "outputs": [
    {
     "data": {
      "text/plain": [
       "array([[53459,   623],\n",
       "       [  473,  5445]])"
      ]
     },
     "execution_count": 15,
     "metadata": {},
     "output_type": "execute_result"
    }
   ],
   "source": [
    "# building confusion matrix\n",
    "from sklearn.metrics import confusion_matrix\n",
    "confusion_matrix(y_train_6, predictions)"
   ]
  },
  {
   "cell_type": "markdown",
   "metadata": {},
   "source": [
    "Each row represents an actual class and each column represents a predicted class.\n",
    "\n",
    "The first row is about non 6 images (the negative class), where 53459 images were correctly classified as non-6s (called true negatives). The remaining 623 images were wrongly classified as 6s (false positives).\n",
    "\n",
    "The second row represents the actual 6 images. 473 were wrongly classified as non-6s (false negatives). 5445 were correctly classified as 6 (true positives). \n",
    "\n",
    "Note that the perfect classifier would be right 100% of the time, which means he would have only true positives and true negatives. \n",
    "\n",
    "A confusion matrix gives you a lot of information about how well your model does, but theres a way to get even more,  like the computing the classifiers precision. This is basically the accuracy of the positive predictions and it is often viewed along with the so called \"recall\". We will discuss how they work in the next section. "
   ]
  },
  {
   "cell_type": "markdown",
   "metadata": {},
   "source": [
    "<a id='precisionr'></a>"
   ]
  },
  {
   "cell_type": "markdown",
   "metadata": {},
   "source": [
    "# Precision & Recall"
   ]
  },
  {
   "cell_type": "markdown",
   "metadata": {},
   "source": [
    "Like I already mentioned, the precision is the accuracy of the positive predictions. It is typically viewed together with \"recall\", which is the ratio of correctly detected positive instances.\n",
    "\n",
    "Sklearn provides build in function to compute them."
   ]
  },
  {
   "cell_type": "code",
   "execution_count": 16,
   "metadata": {},
   "outputs": [
    {
     "data": {
      "text/plain": [
       "0.89733025708635461"
      ]
     },
     "execution_count": 16,
     "metadata": {},
     "output_type": "execute_result"
    }
   ],
   "source": [
    "from sklearn.metrics import precision_score, recall_score\n",
    "precision_score(y_train_6, predictions)"
   ]
  },
  {
   "cell_type": "code",
   "execution_count": 17,
   "metadata": {},
   "outputs": [
    {
     "data": {
      "text/plain": [
       "0.9200743494423792"
      ]
     },
     "execution_count": 17,
     "metadata": {},
     "output_type": "execute_result"
    }
   ],
   "source": [
    "recall_score(y_train_6, predictions)"
   ]
  },
  {
   "cell_type": "markdown",
   "metadata": {},
   "source": [
    "Now we have a much better evaluation of our classifier. Our model classifies 89% of the time images correctly as a 6. The precision tells us that it predicted 92 % of the 6s as a 6. \n",
    "\n",
    "But there is still a better way ! You can combine precision and recall into one single metric, called the F-score. \n",
    "The F-score is really useful if you want to compare 2 classifiers. It is computed using the harmonic mean of precision and recall, and gives much more weight to low values. As a result of that, the classifier will only get a high F-score, if both recall and precision are high."
   ]
  },
  {
   "cell_type": "code",
   "execution_count": 18,
   "metadata": {},
   "outputs": [
    {
     "data": {
      "text/plain": [
       "0.90855998665109305"
      ]
     },
     "execution_count": 18,
     "metadata": {},
     "output_type": "execute_result"
    }
   ],
   "source": [
    "from sklearn.metrics import f1_score\n",
    "f1_score(y_train_6, predictions)"
   ]
  },
  {
   "cell_type": "markdown",
   "metadata": {},
   "source": [
    "There we have it, a 90 % F-score.\n",
    "\n",
    "But unfortunately the F-score isn't the holy grail and has it's tradeoffs. It favors classifiers that have similar precision and recall. This is a probpem, because you sometimes want a high precision and sometimes a high recall. The thing is that an increasing precision, results in an decreasing recall and vice versa. This is called the precision/recall tradeoff and we will cover it in the next section. "
   ]
  },
  {
   "cell_type": "markdown",
   "metadata": {},
   "source": [
    "<a id='precision'></a>"
   ]
  },
  {
   "cell_type": "markdown",
   "metadata": {},
   "source": [
    "# Precision/Recall Tradeoff\n",
    "\n",
    "To illustrate this tradeoff a little bit better, I will give you examples for when you want a high precision and when you want a high recall.\n",
    "\n",
    "1. high precision:\n",
    "\n",
    "You probably want a high precision, if you trained a classifier to detect videos that are suited for children. This means you want a classifier that may rejects a lot of videos that would be actually suited for kids, but never shows you a video that contains adult content. therefore only shows safe ones (e.g a high precision)\n",
    "\n",
    "2. high recall:\n",
    "\n",
    "A example where you would need a high recall, is if you train a classifier that detects people, who are trying to break into a building. It would be fine if the classifier has only 25 % precision (would result in some false alarms), as long as it has a 99% recall and alarms you nearly every time when someone trys to break in. \n",
    "\n",
    "To understand this tradeoff even better, we will look at how the SGDClassifier makes it's classification decisions. For each image it has to classify, it computes a score based on a decision function and it classifies the image as one number (when the score is bigger the than threshold) or another (when the score is smaller than the threshold).\n",
    "\n",
    "\n",
    "The picture below shows digits, that are ordered from the lowest (left) to the highest score (right). Let's suppose you have a classifier that should detect 5s and the threshold is positioned at the middle of the picture (at the central arrow). Then you would spot 4 true positives (actual 5s) and one false positive (actually a 6) on the right of it. The positioning of that threshold would result in a 80% precision (4 out of 5), but out of the six actual 5s on the picture, he would only identify 4, so the recall would be 67% (4 out of 6). If you would now move the threshold to the right arrow, it would result in a higher precision but in a lower recall and vice versa if you move the threshold to the left arrow. "
   ]
  },
  {
   "cell_type": "markdown",
   "metadata": {},
   "source": [
    "![img](https://img1.picload.org/image/ddwodplr/bildschirmfoto2018-02-03um17.2.png)"
   ]
  },
  {
   "cell_type": "markdown",
   "metadata": {},
   "source": [
    "Unfortunately, sklearn doesn't let you choose the threshold, but there is a way around this issue, because you can see the decision scores that sklearn used for it's predictions. So instead of the \"predict()\" function, you can call the \"decision_function()\", which returns a score for each instance. Afterwards you can make predictions based on that score, using any threshold you want. "
   ]
  },
  {
   "cell_type": "code",
   "execution_count": 19,
   "metadata": {},
   "outputs": [
    {
     "data": {
      "text/plain": [
       "array([ 336792.13994462])"
      ]
     },
     "execution_count": 19,
     "metadata": {},
     "output_type": "execute_result"
    }
   ],
   "source": [
    "# we use the \"digit\" variabel again, which contains a 6\n",
    "y_scores = sgd_clf.decision_function([digit])\n",
    "y_scores"
   ]
  },
  {
   "cell_type": "code",
   "execution_count": 20,
   "metadata": {},
   "outputs": [
    {
     "data": {
      "text/plain": [
       "array([ True], dtype=bool)"
      ]
     },
     "execution_count": 20,
     "metadata": {},
     "output_type": "execute_result"
    }
   ],
   "source": [
    "threshold = 0\n",
    "y_digit_pred = (y_scores > threshold)\n",
    "\n",
    "y_digit_pred"
   ]
  },
  {
   "cell_type": "markdown",
   "metadata": {},
   "source": [
    "The usual SGD Classifier uses a treshold equal to 0, so the previous code gives us roughly the same result, as if we had used the normal \"predict()\" method. But now comes the interesting part, because we ill raise the threshold."
   ]
  },
  {
   "cell_type": "code",
   "execution_count": 21,
   "metadata": {},
   "outputs": [
    {
     "data": {
      "text/plain": [
       "array([False], dtype=bool)"
      ]
     },
     "execution_count": 21,
     "metadata": {},
     "output_type": "execute_result"
    }
   ],
   "source": [
    "threshold = 500000\n",
    "y_some_digit_pred = (y_scores > threshold)\n",
    "y_some_digit_pred"
   ]
  },
  {
   "cell_type": "markdown",
   "metadata": {},
   "source": [
    "This little experiment confirms that raising the threshold is decreasing the recall. The image is actually representing a 6 and it is classified correctly with a threshold of 0, but it is classified wrong if the threshold is raised. \n",
    "\n",
    "How we can decide which threshold is the best ?\n",
    "\n",
    "To solve this problem, we need to first get the scores of all the instances in the training set, using \"cross_val_predict()\" function. But this time we want it to return decisions scores and not predictions:"
   ]
  },
  {
   "cell_type": "code",
   "execution_count": 22,
   "metadata": {
    "collapsed": true
   },
   "outputs": [],
   "source": [
    "y_scores = cross_val_predict(sgd_clf, X_train, y_train_6, cv=3, method=\"decision_function\")"
   ]
  },
  {
   "cell_type": "markdown",
   "metadata": {},
   "source": [
    "Now we are able to compute the recall and the precision using the \"precision_recall_curve()\" function:"
   ]
  },
  {
   "cell_type": "code",
   "execution_count": 23,
   "metadata": {
    "collapsed": true
   },
   "outputs": [],
   "source": [
    "from sklearn.metrics import precision_recall_curve\n",
    "\n",
    "precision, recall, threshold = precision_recall_curve(y_train_6, y_scores)"
   ]
  },
  {
   "cell_type": "markdown",
   "metadata": {},
   "source": [
    "To get a better understanding of the recall and precision we computed above, we will plot them both as functions of the threshold using matplotlib:"
   ]
  },
  {
   "cell_type": "code",
   "execution_count": 24,
   "metadata": {},
   "outputs": [
    {
     "data": {
      "image/png": "[encoded data removed]",
      "text/plain": [
       "<matplotlib.figure.Figure at 0x1a252542e8>"
      ]
     },
     "metadata": {},
     "output_type": "display_data"
    }
   ],
   "source": [
    "def plot_precision_and_recall(precision, recall, threshold):\n",
    "    plt.plot(threshold, precision[:-1], \"r-\", label=\"precision\", linewidth=5)\n",
    "    plt.plot(threshold, recall[:-1], \"b\", label=\"recall\", linewidth=5)\n",
    "    plt.xlabel(\"threshold\", fontsize=19)\n",
    "    plt.legend(loc=\"upper right\", fontsize=19)\n",
    "    plt.ylim([0, 1])\n",
    "\n",
    "plt.figure(figsize=(14, 7))\n",
    "plot_precision_and_recall(precision, recall, threshold)\n",
    "plt.show()"
   ]
  },
  {
   "cell_type": "markdown",
   "metadata": {},
   "source": [
    "Another way is to plot the precision and recall against each other:"
   ]
  },
  {
   "cell_type": "code",
   "execution_count": 25,
   "metadata": {},
   "outputs": [
    {
     "data": {
      "image/png": "[encoded data removed]",
      "text/plain": [
       "<matplotlib.figure.Figure at 0x1a251c2c18>"
      ]
     },
     "metadata": {},
     "output_type": "display_data"
    }
   ],
   "source": [
    "def plot_precision_vs_recall(precision, recall):\n",
    "    plt.plot(recall, precision, \"g--\", linewidth=2.5)\n",
    "    plt.ylabel(\"recall\", fontsize=19)\n",
    "    plt.xlabel(\"precision\", fontsize=19)\n",
    "    plt.axis([0, 1.5, 0, 1.5])\n",
    "\n",
    "plt.figure(figsize=(14, 7))\n",
    "plot_precision_vs_recall(precision, recall)\n",
    "plt.show()"
   ]
  },
  {
   "cell_type": "markdown",
   "metadata": {},
   "source": [
    "Above you can clearly see that the recall is falling of sharply at a precision of around 95%. Therefore you probably want to choose to select the precision/recall tradeoff before that - maybe at around 85 %."
   ]
  },
  {
   "cell_type": "markdown",
   "metadata": {},
   "source": [
    "Because of the two plots above, you are now able to choose a threshold, that gives you the best precision/recall tradeoff for your current machine learning problem. \n",
    "\n",
    "If you want for example a precision of 85%, you can easily look at the plots and see that you would need a threshold of around - 50,000. To then make a prediction, you don't have to call the \"predict()\" method, because you can just run the code below:"
   ]
  },
  {
   "cell_type": "code",
   "execution_count": 26,
   "metadata": {
    "collapsed": true
   },
   "outputs": [],
   "source": [
    "y_train_pred_99 = (y_scores > - 50000)"
   ]
  },
  {
   "cell_type": "code",
   "execution_count": 27,
   "metadata": {},
   "outputs": [
    {
     "data": {
      "text/plain": [
       "0.85549930971007826"
      ]
     },
     "execution_count": 27,
     "metadata": {},
     "output_type": "execute_result"
    }
   ],
   "source": [
    "# let's check if it worked\n",
    "precision_score(y_train_6, y_train_pred_99)"
   ]
  },
  {
   "cell_type": "markdown",
   "metadata": {},
   "source": [
    "Great ! Now we know how we can create a classifier with virtually any precision we want. We also learned that this is not as desirible as it sounds, because a high precision is not very usefull in combination with a low recall ratio. So the next time you hear someone talking about a precision of 99%, you know that you should asked him about the recall."
   ]
  },
  {
   "cell_type": "markdown",
   "metadata": {},
   "source": [
    "<a id='roc'></a>"
   ]
  },
  {
   "cell_type": "markdown",
   "metadata": {},
   "source": [
    "# ROC Curve and ROC AUC Score\n",
    "\n",
    "The ROC curve is another tool to to evaluate and compare binary classifiers. It has a lot of similarities with the precision/recall curve, although it is quite different. It plots the true positive rate (also called recall) against the false positive rate (ratio of incorrectly classified negative instances), instead of plotting the precision versus the recall. \n",
    "\n",
    "To generate a ROC curve, we need to compute the true positive rate and the false positive rate for several threshold values. We can use the \"roc_curve()\" function for this task. Afterwards we need to plot them against each other with matplotlib."
   ]
  },
  {
   "cell_type": "code",
   "execution_count": 28,
   "metadata": {
    "collapsed": true
   },
   "outputs": [],
   "source": [
    "# compute true positive rate and false positive rate\n",
    "from sklearn.metrics import roc_curve\n",
    "false_positive_rate, true_positive_rate, thresholds = roc_curve(y_train_6, y_scores)\n"
   ]
  },
  {
   "cell_type": "code",
   "execution_count": 29,
   "metadata": {},
   "outputs": [
    {
     "data": {
      "image/png": "[encoded data removed]",
      "text/plain": [
       "<matplotlib.figure.Figure at 0x1a35654588>"
      ]
     },
     "metadata": {},
     "output_type": "display_data"
    }
   ],
   "source": [
    "# plotting them against each other\n",
    "def plot_roc_curve(false_positive_rate, true_positive_rate, label=None):\n",
    "    plt.plot(false_positive_rate, true_positive_rate, linewidth=2, label=label)\n",
    "    plt.plot([0, 1], [0, 1], 'r', linewidth=4)\n",
    "    plt.axis([0, 1, 0, 1])\n",
    "    plt.xlabel('False Positive Rate (FPR)', fontsize=16)\n",
    "    plt.ylabel('True Positive Rate (TPR)', fontsize=16)\n",
    "\n",
    "plt.figure(figsize=(14, 7))\n",
    "plot_roc_curve(false_positive_rate, true_positive_rate)\n",
    "plt.show()"
   ]
  },
  {
   "cell_type": "markdown",
   "metadata": {},
   "source": [
    "Of course we also have a tradeoff here, because the classifier produces more false positives, the higher the true positive rate is. The red line in the middel is a purely random classifier and therefore your classifier should be as far away from it as possible. \n",
    "\n",
    "The ROC curve provides also a way to compare two classifiers with each other, by measuring the area under the curve (called AUC). Note that a classifiers that is 100% correct, would have a ROC AUC of 1. A completely random classiffier would have a score of 0.5. "
   ]
  },
  {
   "cell_type": "code",
   "execution_count": 30,
   "metadata": {},
   "outputs": [
    {
     "name": "stdout",
     "output_type": "stream",
     "text": [
      "ROC-AUC-Score: 0.991436895189\n"
     ]
    }
   ],
   "source": [
    "# computing ROC AUC\n",
    "from sklearn.metrics import roc_auc_score\n",
    "score = roc_auc_score(y_train_6, y_scores)\n",
    "print(\"ROC-AUC-Score:\", score)"
   ]
  },
  {
   "cell_type": "markdown",
   "metadata": {},
   "source": [
    "Let's train a another classifier, so that we can compared it with our previous SGDCLassifier,  using the ROC curve and ROC AUC score. We will use a RandomForestClassifier, which is also build into  sklearn. "
   ]
  },
  {
   "cell_type": "markdown",
   "metadata": {},
   "source": [
    "To train a RandomForestClassifier we first need to get scores for each instance in the training set. Unfortunately this function has no \"decision_function()\" , instead it has the \"predict_proba()\" function. The \"predict_proba()\" function returns an array that contains a row per instance and a column per class, each contains the probability that the given instance belongs to the given class (e.g a 86% probability that the image represents a 6)."
   ]
  },
  {
   "cell_type": "code",
   "execution_count": 31,
   "metadata": {
    "collapsed": true
   },
   "outputs": [],
   "source": [
    "from sklearn.ensemble import RandomForestClassifier\n",
    "\n",
    "random_forest = RandomForestClassifier(random_state = 42)\n",
    "y_probas_forest = cross_val_predict(random_forest, X_train, y_train_6, cv=3, method = \"predict_proba\")"
   ]
  },
  {
   "cell_type": "markdown",
   "metadata": {},
   "source": [
    "The problem is that we need scores not probabilities to plot the AUC ROC curve. To solve this issue, we use the positive class's  probability as the score:"
   ]
  },
  {
   "cell_type": "code",
   "execution_count": 32,
   "metadata": {
    "collapsed": true
   },
   "outputs": [],
   "source": [
    "y_scores_forest = y_probas_forest[:, 1]\n",
    "fpr_forest, tpr_forest, thresholds_forest = roc_curve(y_train_6, y_scores_forest)"
   ]
  },
  {
   "cell_type": "code",
   "execution_count": 33,
   "metadata": {},
   "outputs": [
    {
     "data": {
      "image/png": "[encoded data removed]",
      "text/plain": [
       "<matplotlib.figure.Figure at 0x1a26155ef0>"
      ]
     },
     "metadata": {},
     "output_type": "display_data"
    }
   ],
   "source": [
    "plt.figure(figsize=(14, 7))\n",
    "plt.plot(false_positive_rate, true_positive_rate, \"b:\", label=\"SGD\")\n",
    "plot_roc_curve(fpr_forest, tpr_forest, \"Random Forest\")\n",
    "plt.legend(loc = \"lower right\")\n",
    "\n",
    "plt.show()"
   ]
  },
  {
   "cell_type": "code",
   "execution_count": 34,
   "metadata": {},
   "outputs": [
    {
     "name": "stdout",
     "output_type": "stream",
     "text": [
      "ROC-AUC-Score: 0.995905478181\n"
     ]
    }
   ],
   "source": [
    "# ROC AUC Score:\n",
    "score = roc_auc_score(y_train_6, y_scores_forest)\n",
    "print(\"ROC-AUC-Score:\", score)"
   ]
  },
  {
   "cell_type": "code",
   "execution_count": 35,
   "metadata": {},
   "outputs": [
    {
     "name": "stdout",
     "output_type": "stream",
     "text": [
      "Precision: 0.987784867821\n"
     ]
    }
   ],
   "source": [
    "# Precision:\n",
    "y_train_pred_forest = cross_val_predict(random_forest, X_train, y_train_6, cv=3)\n",
    "score = precision_score(y_train_6, y_train_pred_forest)\n",
    "print(\"Precision:\", score)"
   ]
  },
  {
   "cell_type": "code",
   "execution_count": 36,
   "metadata": {},
   "outputs": [
    {
     "name": "stdout",
     "output_type": "stream",
     "text": [
      "Recall: 0.915511997296\n"
     ]
    }
   ],
   "source": [
    "# recall:\n",
    "score = recall_score(y_train_6, y_train_pred_forest)\n",
    "print(\"Recall:\", score) "
   ]
  },
  {
   "cell_type": "markdown",
   "metadata": {},
   "source": [
    "The RandomForestsClassifiers ROC curve looks better than the one of the SGDClassifier, because it comes closer to the top left corner.\n",
    "\n",
    "\n",
    "Now we definitely learned a lot of stuff. We learned how to train a binary classififer, how to to evaluate it and with which tool, how to use cross validation, how to select the right precision/recall tradeoff and how to compare different classifiers with the ROC AUC score. Now it is time to tackle multiclass classification."
   ]
  },
  {
   "cell_type": "markdown",
   "metadata": {},
   "source": [
    "<a id='multiclass'> </a>"
   ]
  },
  {
   "cell_type": "markdown",
   "metadata": {},
   "source": [
    "# Multiclass Classification"
   ]
  },
  {
   "cell_type": "markdown",
   "metadata": {},
   "source": [
    "Now we will work on building a solid classifier that can distinguish between more than just two classes (e.g Multiclass Classification). \n",
    "\n",
    "Out there are algorithms that can deal by themselves with predicting multiple classes, like Random Forest classifiers or naive bayes classiffiers. There are also algorithms that can't do that, like Support Vector Machine classiffiers and Linear classiffiers, but with some tricks, you can predict multiple classes with them too.\n",
    "\n",
    "Let's discuss the most common of these \"tricks\":\n",
    "\n",
    "1) one-versus-all (OvA) Strategy:\n",
    "\n",
    "With this strategy, you train 10 binary classifiers, one for each number. This simply means training one classifier to detect 0s, one to detect 1s, one to detect 2s and so on. When you then want to classify an image, you just look at which classifier has the best decision score\n",
    "\n",
    "2) one-versus-one (OvO) Strategy:\n",
    "\n",
    "Here you train a binary classifier for every pair of digits. This means training a classifier that can distinguish between 0s and 1s, one that can distiguish between 0s and 2s, one that can distinguish between 1s and 2s etc. If there are N classes, you would need to train NxN(N-1)/2 classifiers, which are 45 in the case of the mnist dataset. When you then want to classify images, you need to run every of these 45 classiffiers and choose the best performing one. This strategy has one big advantage over the others and this is, that you only need to train it on a part of the training set for the 2 classes it distinguishes between. \n",
    "Algorithms like Support Vector Machine Classifiers don't scale good at large datasets, which is why in this case the OvO strategy would do better, because it is faster to train a lot of classifiers on a small  dataset, than training just one at a large dataset.  \n",
    "\n",
    "\n",
    "At most algorithms, sklearn automatically recognizes, when you use a binary classifier for a multiclass classification tasks and uses the OvA strategy. There is an exception: When you try to use a Support Vector Machine classifier, it automatically runs the OvO strategy. \n",
    "\n",
    "We will now try to train a SGDClassifier for multiclass classification:"
   ]
  },
  {
   "cell_type": "code",
   "execution_count": 37,
   "metadata": {},
   "outputs": [
    {
     "data": {
      "text/plain": [
       "array([ 6.])"
      ]
     },
     "execution_count": 37,
     "metadata": {},
     "output_type": "execute_result"
    }
   ],
   "source": [
    "# training the classifier on all target classes from 0 to 9\n",
    "sgd_clf.fit(X_train, y_train) \n",
    "\n",
    "# now we ask it to predict the \"digit\" variable, which contains a 6\n",
    "sgd_clf.predict([digit]) "
   ]
  },
  {
   "cell_type": "markdown",
   "metadata": {},
   "source": [
    "There we have it. Our classifiers successfully classified our image as a 6.\n",
    "Behind the scenes, sklearn trained 10 separate binary classifiers and selected the one with the highest decision score."
   ]
  },
  {
   "cell_type": "markdown",
   "metadata": {},
   "source": [
    "To proof that this is really happening, we can call the \"decision_function()\". It should return 10 scores now, not just one like it previously did."
   ]
  },
  {
   "cell_type": "code",
   "execution_count": 38,
   "metadata": {},
   "outputs": [
    {
     "data": {
      "text/plain": [
       "array([[-913982.70456115, -647401.4825082 , -671785.4952167 ,\n",
       "        -951875.84162795, -232825.71980206, -479321.63360506,\n",
       "         336792.13994462, -834085.76134867, -557907.55380941,\n",
       "        -251559.37311632]])"
      ]
     },
     "execution_count": 38,
     "metadata": {},
     "output_type": "execute_result"
    }
   ],
   "source": [
    "digit_scores = sgd_clf.decision_function([digit])\n",
    "digit_scores"
   ]
  },
  {
   "cell_type": "code",
   "execution_count": 39,
   "metadata": {},
   "outputs": [
    {
     "data": {
      "text/plain": [
       "6"
      ]
     },
     "execution_count": 39,
     "metadata": {},
     "output_type": "execute_result"
    }
   ],
   "source": [
    "np.argmax(digit_scores)"
   ]
  },
  {
   "cell_type": "code",
   "execution_count": 40,
   "metadata": {},
   "outputs": [
    {
     "data": {
      "text/plain": [
       "array([ 0.,  1.,  2.,  3.,  4.,  5.,  6.,  7.,  8.,  9.])"
      ]
     },
     "execution_count": 40,
     "metadata": {},
     "output_type": "execute_result"
    }
   ],
   "source": [
    "# When a classifier is trained, he stores a list of target classes in the classes_attribute\n",
    "# usually ordered by vlaue\n",
    "sgd_clf.classes_"
   ]
  },
  {
   "cell_type": "code",
   "execution_count": 41,
   "metadata": {},
   "outputs": [
    {
     "data": {
      "text/plain": [
       "6.0"
      ]
     },
     "execution_count": 41,
     "metadata": {},
     "output_type": "execute_result"
    }
   ],
   "source": [
    "# the index of each class should match the class itself\n",
    "sgd_clf.classes_[6]"
   ]
  },
  {
   "cell_type": "markdown",
   "metadata": {},
   "source": [
    "There is also a way to force sklearn to use OvO for example at an SGDClassifier:"
   ]
  },
  {
   "cell_type": "code",
   "execution_count": 42,
   "metadata": {},
   "outputs": [
    {
     "data": {
      "text/plain": [
       "array([ 6.])"
      ]
     },
     "execution_count": 42,
     "metadata": {},
     "output_type": "execute_result"
    }
   ],
   "source": [
    "from sklearn.multiclass import OneVsOneClassifier\n",
    "# just create an instance and pass the SGDClassifier in it\n",
    "force_ovo = OneVsOneClassifier(SGDClassifier(random_state=42, max_iter=5, tol=None))\n",
    "force_ovo.fit(X_train, y_train)\n",
    "force_ovo.predict([digit])"
   ]
  },
  {
   "cell_type": "markdown",
   "metadata": {},
   "source": [
    "It classified the actual 6 correctly.\n",
    "\n",
    "I previsouly mentioned that a RandomForestClassifier is capable of classifying multiple classes by itself. \n",
    "Therefore we will train one below:"
   ]
  },
  {
   "cell_type": "code",
   "execution_count": 43,
   "metadata": {},
   "outputs": [
    {
     "data": {
      "text/plain": [
       "array([ 5.])"
      ]
     },
     "execution_count": 43,
     "metadata": {},
     "output_type": "execute_result"
    }
   ],
   "source": [
    "# let's change the number we want to predict to a 5\n",
    "digit = X_label[36000]\n",
    "# train random forest\n",
    "random_forest.fit(X_train, y_train)\n",
    "random_forest.predict([digit])"
   ]
  },
  {
   "cell_type": "code",
   "execution_count": 44,
   "metadata": {},
   "outputs": [
    {
     "data": {
      "text/plain": [
       "array([[ 0.1,  0. ,  0. ,  0.1,  0. ,  0.8,  0. ,  0. ,  0. ,  0. ]])"
      ]
     },
     "execution_count": 44,
     "metadata": {},
     "output_type": "execute_result"
    }
   ],
   "source": [
    "# call \"predict_proba()\" to get the probabilities assigned to each instance\n",
    "random_forest.predict_proba([digit])"
   ]
  },
  {
   "cell_type": "markdown",
   "metadata": {},
   "source": [
    "You can see from the output of the \"predict_proba()\" function, that the classifier assigned a 80 % probably to the image being a 5. We can also see, that it assigned a 10% chance to the image being a 0 or 3.\n",
    "\n",
    "Now we will evaluate our newly trained SGD classifier. We will do this by using the cross validation and the \"cross_val_score()\" function:"
   ]
  },
  {
   "cell_type": "code",
   "execution_count": 45,
   "metadata": {},
   "outputs": [
    {
     "name": "stdout",
     "output_type": "stream",
     "text": [
      "Accuracy: 0.852051434248\n"
     ]
    }
   ],
   "source": [
    "accuracy = cross_val_score(sgd_clf, X_train, y_train, cv=3, scoring=\"accuracy\")\n",
    "# calculate mean of the 3 accuracies\n",
    "mean_of_accuracy = np.mean(accuracy)\n",
    "print(\"Accuracy:\", mean_of_accuracy)"
   ]
  },
  {
   "cell_type": "markdown",
   "metadata": {},
   "source": [
    "It get's on average a 85% accuracy, which is not a bad score but theres still room for improvement. One way to improve our score is to scale the inputs:"
   ]
  },
  {
   "cell_type": "code",
   "execution_count": 46,
   "metadata": {},
   "outputs": [
    {
     "name": "stdout",
     "output_type": "stream",
     "text": [
      "Accuracy: 0.908499803025\n"
     ]
    }
   ],
   "source": [
    "from sklearn.preprocessing import StandardScaler\n",
    "scaler = StandardScaler()\n",
    "X_train_scaled = scaler.fit_transform(X_train.astype(np.float64))\n",
    "accuracy = cross_val_score(sgd_clf, X_train_scaled, y_train, cv=3, scoring=\"accuracy\")\n",
    "\n",
    "# calculate mean of the 3 accuracies\n",
    "mean_of_accuracy = np.mean(accuracy)\n",
    "print(\"Accuracy:\", mean_of_accuracy)"
   ]
  },
  {
   "cell_type": "markdown",
   "metadata": {},
   "source": [
    "Now it get's a 91 % accuracy on average. Not bad ! \n",
    "Let's check the precision, recall and F-score:"
   ]
  },
  {
   "cell_type": "code",
   "execution_count": 47,
   "metadata": {},
   "outputs": [
    {
     "name": "stdout",
     "output_type": "stream",
     "text": [
      "Precision: 0.907446027435\n"
     ]
    }
   ],
   "source": [
    "# getting a precision:\n",
    "\n",
    "# 1. get clean predictions\n",
    "predictions = cross_val_predict(sgd_clf, X_train_scaled, y_train, cv=3)\n",
    "\n",
    "# 2. compute prtecision\n",
    "# since we are now dealing with multilabel classiffication, \n",
    "# wee need to specify a value for the average parameter, here: 'macro'.\n",
    "# 'macro' calculates metrics for each label & finds their unweighted mean. \n",
    "precision = precision_score(y_train, predictions, average='macro')\n",
    "print(\"Precision:\", precision)"
   ]
  },
  {
   "cell_type": "code",
   "execution_count": 48,
   "metadata": {},
   "outputs": [
    {
     "name": "stdout",
     "output_type": "stream",
     "text": [
      "Recall: 0.907446027435\n"
     ]
    }
   ],
   "source": [
    "# recall\n",
    "recall = recall_score(y_train, predictions, average='macro')\n",
    "print(\"Recall:\", recall)"
   ]
  },
  {
   "cell_type": "code",
   "execution_count": 49,
   "metadata": {},
   "outputs": [
    {
     "name": "stdout",
     "output_type": "stream",
     "text": [
      "F-Score: 0.907238052565\n"
     ]
    }
   ],
   "source": [
    "# F-score\n",
    "f1_score = f1_score(y_train, predictions, average='macro')\n",
    "print(\"F-Score:\", f1_score)"
   ]
  },
  {
   "cell_type": "markdown",
   "metadata": {},
   "source": [
    "<a id='Error2'> </a>"
   ]
  },
  {
   "cell_type": "markdown",
   "metadata": {},
   "source": [
    "# Error Analysis\n",
    "Since this is no real machine learning project and the feature-engineering etc. was all done for us before, there are only a few things left, to improve our model. One way to improve our model would be to look at what errors it makes and trying to analyze them.\n",
    "\n",
    "First we will look at the confusion matrix:"
   ]
  },
  {
   "cell_type": "code",
   "execution_count": 50,
   "metadata": {
    "collapsed": true
   },
   "outputs": [],
   "source": [
    "#y_train_pred = cross_val_predict(sgd_clf, X_train_scaled, y_train, cv=3)\n",
    "#confusion_matrix = confusion_matrix(y_train, y_train_pred)\n",
    "from sklearn.metrics import confusion_matrix\n",
    "\n",
    "y_train_pred = cross_val_predict(sgd_clf, X_train_scaled, y_train, cv=3)\n",
    "confusion_matrix = confusion_matrix(y_train, y_train_pred)\n",
    "#conf_mx"
   ]
  },
  {
   "cell_type": "code",
   "execution_count": 51,
   "metadata": {},
   "outputs": [
    {
     "data": {
      "text/plain": [
       "array([[5725,    3,   24,    9,   10,   49,   50,   10,   39,    4],\n",
       "       [   2, 6493,   43,   25,    7,   40,    5,   10,  109,    8],\n",
       "       [  51,   41, 5321,  104,   89,   26,   87,   60,  166,   13],\n",
       "       [  47,   46,  141, 5342,    1,  231,   40,   50,  141,   92],\n",
       "       [  19,   29,   41,   10, 5366,    9,   56,   37,   86,  189],\n",
       "       [  73,   45,   36,  193,   64, 4582,  111,   30,  193,   94],\n",
       "       [  29,   34,   44,    2,   42,   85, 5627,   10,   45,    0],\n",
       "       [  25,   24,   74,   32,   54,   12,    6, 5787,   15,  236],\n",
       "       [  52,  161,   73,  156,   10,  163,   61,   25, 5027,  123],\n",
       "       [  43,   35,   26,   92,  178,   28,    2,  223,   82, 5240]])"
      ]
     },
     "execution_count": 51,
     "metadata": {},
     "output_type": "execute_result"
    }
   ],
   "source": [
    "confusion_matrix"
   ]
  },
  {
   "cell_type": "markdown",
   "metadata": {},
   "source": [
    "This bunch of numbers can't really help us. We should use matplotlib to plot the confusion matrix for us:"
   ]
  },
  {
   "cell_type": "code",
   "execution_count": 52,
   "metadata": {},
   "outputs": [
    {
     "data": {
      "image/png": "[encoded data removed]",
      "text/plain": [
       "<matplotlib.figure.Figure at 0x1a26155be0>"
      ]
     },
     "metadata": {},
     "output_type": "display_data"
    }
   ],
   "source": [
    "plt.matshow(confusion_matrix, cmap = plt.cm.gray)\n",
    "plt.show()"
   ]
  },
  {
   "cell_type": "markdown",
   "metadata": {},
   "source": [
    "This confusion matrix looks good but if you analyze it more detailed, you can see that the 5s look a bit darker then the other images. This could mean that our model just predicts the 5s not as good as the other digits, or that there just are fewe 5s in the dataset. \n",
    "\n",
    "Let's create a plot that shows us the errors better than this one. First, we will divide each value within the confusion matrix by the sum of images in the corresponding class, so that we are able to compare error rates instead of absolute number errors. We don't want to compare absolute number erros, because these would make abundant classes look more bad than their actually are."
   ]
  },
  {
   "cell_type": "code",
   "execution_count": 53,
   "metadata": {},
   "outputs": [
    {
     "data": {
      "image/png": "[encoded data removed]",
      "text/plain": [
       "<matplotlib.figure.Figure at 0x1a267d0c18>"
      ]
     },
     "metadata": {},
     "output_type": "display_data"
    }
   ],
   "source": [
    "sum_of_rows = confusion_matrix.sum(axis=1, keepdims=True)\n",
    "norm_confusion_matrix = confusion_matrix / sum_of_rows\n",
    "\n",
    "# let's now fill the diagonal with zeros to keep nothing but the errors:\n",
    "np.fill_diagonal(norm_confusion_matrix, 0)\n",
    "plt.matshow(norm_confusion_matrix, cmap=plt.cm.gray)\n",
    "plt.show()                          "
   ]
  },
  {
   "cell_type": "markdown",
   "metadata": {},
   "source": [
    "If we look closely at the plot above, we can spot a few patterns. Remember that columns represent predicted classes and rows actual classes. \n",
    "\n",
    "The first thing that we can notice is that some rows and columns are more brighter and some are more darker than others. A bright one (at this plot), means that many images get misclassified and dark ones tell us that the many images get classified correctly.\n",
    "\n",
    "Now we can argue that the 8 and 9 columns are bright and therefore these numbers get often classififed wrong.\n",
    "The same is the case for the 8 and 9 rows. Also the row 1 looks pretty dark and therefore get's often classiffied correct.\n",
    "\n",
    "We now know that we can improve our model even further by solving these issues. We could improve the classiffication of 8s and 9s and fix the 3/5 confusion. \n",
    "\n",
    "For example, we could gather more training data for specific numbers by copying and then rotating some of the images. Another solution would be writing an algortihm that counts the number of closed loops in a number (6 has one, 8 has two and so on). Or we could preprocess the images with tools like opencv or so to make some patterns, that makes a digit unique, more outstanding. Another things would be to preprocess images so that they are better centered and not too rotated.\n"
   ]
  },
  {
   "cell_type": "markdown",
   "metadata": {},
   "source": [
    "<a id='Multilabel'></a>"
   ]
  },
  {
   "cell_type": "markdown",
   "metadata": {},
   "source": [
    "<a id='Capstone'> </a>"
   ]
  },
  {
   "cell_type": "markdown",
   "metadata": {},
   "source": [
    "# Summary\n",
    "\n",
    "Now we have a pretty good understanding of how supervised classification works. \n",
    "\n",
    "We learned about several algorithms, like SGD Classifiers, RandomForest Classiffiers, Naive Bayes Classifiers, SVM Classiffiers and Linear Classiffiers. We learned about their advantages and disadvantages and how to implement them. We learned which ones are suited for binary classification and which ones are suited for multiclass classiffication. \n",
    "\n",
    "We also gained knowledge about strategies like one-versus-all (OvA) and one-versus-one (OvO), that help use to use a binary classifier at a multiclass classiffication problem. \n",
    "\n",
    "Furthermore we implemented and learned about K-fold cross validation and how to correctly evaluate classififers. \n",
    "\n",
    "In terms of evaluation we learned why accuracy is generally not the preferred performance measure for classifiers, how a confusion matrix works, what precision & recall are, what an F-score is and what disadvantages it has (like favoring classifiers with similar and high precision and recall). \n",
    "\n",
    "We also discovered the recall/precision tradeoff, the ROC curve, the ROC AUC score and also it's tradeoff.\n",
    "\n",
    "I think we now learned enough to tackle classification problems and how to compare the output of different models with each other."
   ]
  }
 ],
 "metadata": {
  "kernelspec": {
   "display_name": "Python 3",
   "language": "python",
   "name": "python3"
  },
  "language_info": {
   "codemirror_mode": {
    "name": "ipython",
    "version": 3
   },
   "file_extension": ".py",
   "mimetype": "text/x-python",
   "name": "python",
   "nbconvert_exporter": "python",
   "pygments_lexer": "ipython3",
   "version": "3.6.5"
  }
 },
 "nbformat": 4,
 "nbformat_minor": 2
}
